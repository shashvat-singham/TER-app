{
  "nbformat": 4,
  "nbformat_minor": 0,
  "metadata": {
    "colab": {
      "name": "Tweet affect analysis with individual classifiers (dec 2020)",
      "provenance": [],
      "toc_visible": true,
      "mount_file_id": "1BlW7vMe0bJxNGQCC4eCdK-jGxmXUdH80",
      "authorship_tag": "ABX9TyOdSX8ZMFh83+5DHec+DfRA",
      "include_colab_link": true
    },
    "kernelspec": {
      "name": "python3",
      "display_name": "Python 3"
    },
    "accelerator": "TPU"
  },
  "cells": [
    {
      "cell_type": "markdown",
      "metadata": {
        "id": "view-in-github",
        "colab_type": "text"
      },
      "source": [
        "<a href=\"https://colab.research.google.com/github/pbaitor/i18n-sentiment/blob/main/notebook/Tweet_affect_analysis_with_individual_classifiers_(dec_2020).ipynb\" target=\"_parent\"><img src=\"https://colab.research.google.com/assets/colab-badge.svg\" alt=\"Open In Colab\"/></a>"
      ]
    },
    {
      "cell_type": "markdown",
      "metadata": {
        "id": "L8O1Amu8InU5"
      },
      "source": [
        "# Install dependencies"
      ]
    },
    {
      "cell_type": "markdown",
      "metadata": {
        "id": "oIlItp_WI2D_"
      },
      "source": [
        "Install facebook LASER:"
      ]
    },
    {
      "cell_type": "code",
      "metadata": {
        "colab": {
          "base_uri": "https://localhost:8080/"
        },
        "id": "kAl7VWzZIray",
        "outputId": "51199693-63b0-4b68-a9fd-4770ca5deee1"
      },
      "source": [
        "!pip install laserembeddings\r\n",
        "\r\n",
        "!python -m laserembeddings download-models"
      ],
      "execution_count": null,
      "outputs": [
        {
          "output_type": "stream",
          "text": [
            "Collecting laserembeddings\n",
            "  Downloading https://files.pythonhosted.org/packages/a2/4b/a9e3ee9f4825bd2bb6b48f26370e2c341860ec0cb2a9a27deea9be6c2299/laserembeddings-1.1.0-py3-none-any.whl\n",
            "Collecting subword-nmt<0.4.0,>=0.3.6\n",
            "  Downloading https://files.pythonhosted.org/packages/74/60/6600a7bc09e7ab38bc53a48a20d8cae49b837f93f5842a41fe513a694912/subword_nmt-0.3.7-py2.py3-none-any.whl\n",
            "Collecting transliterate==1.10.2\n",
            "\u001b[?25l  Downloading https://files.pythonhosted.org/packages/a1/6e/9a9d597dbdd6d0172427c8cc07c35736471e631060df9e59eeb87687f817/transliterate-1.10.2-py2.py3-none-any.whl (45kB)\n",
            "\u001b[K     |████████████████████████████████| 51kB 3.4MB/s \n",
            "\u001b[?25hCollecting sacremoses==0.0.35\n",
            "\u001b[?25l  Downloading https://files.pythonhosted.org/packages/1f/8e/ed5364a06a9ba720fddd9820155cc57300d28f5f43a6fd7b7e817177e642/sacremoses-0.0.35.tar.gz (859kB)\n",
            "\u001b[K     |████████████████████████████████| 860kB 10.7MB/s \n",
            "\u001b[?25hRequirement already satisfied: torch<2.0.0,>=1.0.1.post2 in /usr/local/lib/python3.6/dist-packages (from laserembeddings) (1.7.0+cu101)\n",
            "Requirement already satisfied: numpy<2.0.0,>=1.15.4 in /usr/local/lib/python3.6/dist-packages (from laserembeddings) (1.19.4)\n",
            "Requirement already satisfied: six>=1.1.0 in /usr/local/lib/python3.6/dist-packages (from transliterate==1.10.2->laserembeddings) (1.15.0)\n",
            "Requirement already satisfied: click in /usr/local/lib/python3.6/dist-packages (from sacremoses==0.0.35->laserembeddings) (7.1.2)\n",
            "Requirement already satisfied: joblib in /usr/local/lib/python3.6/dist-packages (from sacremoses==0.0.35->laserembeddings) (1.0.0)\n",
            "Requirement already satisfied: tqdm in /usr/local/lib/python3.6/dist-packages (from sacremoses==0.0.35->laserembeddings) (4.41.1)\n",
            "Requirement already satisfied: dataclasses in /usr/local/lib/python3.6/dist-packages (from torch<2.0.0,>=1.0.1.post2->laserembeddings) (0.8)\n",
            "Requirement already satisfied: typing-extensions in /usr/local/lib/python3.6/dist-packages (from torch<2.0.0,>=1.0.1.post2->laserembeddings) (3.7.4.3)\n",
            "Requirement already satisfied: future in /usr/local/lib/python3.6/dist-packages (from torch<2.0.0,>=1.0.1.post2->laserembeddings) (0.16.0)\n",
            "Building wheels for collected packages: sacremoses\n",
            "  Building wheel for sacremoses (setup.py) ... \u001b[?25l\u001b[?25hdone\n",
            "  Created wheel for sacremoses: filename=sacremoses-0.0.35-cp36-none-any.whl size=884000 sha256=413fba0e0a142f7c165c046562a114d6d917f0d326c9ec7ebef2110aa98ac442\n",
            "  Stored in directory: /root/.cache/pip/wheels/63/2a/db/63e2909042c634ef551d0d9ac825b2b0b32dede4a6d87ddc94\n",
            "Successfully built sacremoses\n",
            "Installing collected packages: subword-nmt, transliterate, sacremoses, laserembeddings\n",
            "Successfully installed laserembeddings-1.1.0 sacremoses-0.0.35 subword-nmt-0.3.7 transliterate-1.10.2\n",
            "Downloading models into /usr/local/lib/python3.6/dist-packages/laserembeddings/data\n",
            "\n",
            "✅   Downloaded https://dl.fbaipublicfiles.com/laser/models/93langs.fcodes    \n",
            "✅   Downloaded https://dl.fbaipublicfiles.com/laser/models/93langs.fvocab    \n",
            "✅   Downloaded https://dl.fbaipublicfiles.com/laser/models/bilstm.93langs.2018-12-26.pt    \n",
            "\n",
            "✨ You're all set!\n"
          ],
          "name": "stdout"
        }
      ]
    },
    {
      "cell_type": "markdown",
      "metadata": {
        "id": "HbRw_hMBJBJ_"
      },
      "source": [
        "Install BM-MLL loss function:"
      ]
    },
    {
      "cell_type": "code",
      "metadata": {
        "colab": {
          "base_uri": "https://localhost:8080/"
        },
        "id": "32gS5PN1I7TL",
        "outputId": "7f4310b1-a3d1-459b-de75-33b58df2ce5f"
      },
      "source": [
        "!pip install bpmll"
      ],
      "execution_count": null,
      "outputs": [
        {
          "output_type": "stream",
          "text": [
            "Collecting bpmll\n",
            "  Downloading https://files.pythonhosted.org/packages/05/b4/00504fabaefeaab0e22acf01638a8824ded6287d514b003cf8249dac555c/bpmll-1.0.0-py3-none-any.whl\n",
            "Requirement already satisfied: tensorflow in /usr/local/lib/python3.6/dist-packages (from bpmll) (2.4.0)\n",
            "Requirement already satisfied: h5py~=2.10.0 in /usr/local/lib/python3.6/dist-packages (from tensorflow->bpmll) (2.10.0)\n",
            "Requirement already satisfied: gast==0.3.3 in /usr/local/lib/python3.6/dist-packages (from tensorflow->bpmll) (0.3.3)\n",
            "Requirement already satisfied: protobuf>=3.9.2 in /usr/local/lib/python3.6/dist-packages (from tensorflow->bpmll) (3.12.4)\n",
            "Requirement already satisfied: google-pasta~=0.2 in /usr/local/lib/python3.6/dist-packages (from tensorflow->bpmll) (0.2.0)\n",
            "Requirement already satisfied: six~=1.15.0 in /usr/local/lib/python3.6/dist-packages (from tensorflow->bpmll) (1.15.0)\n",
            "Requirement already satisfied: wrapt~=1.12.1 in /usr/local/lib/python3.6/dist-packages (from tensorflow->bpmll) (1.12.1)\n",
            "Requirement already satisfied: grpcio~=1.32.0 in /usr/local/lib/python3.6/dist-packages (from tensorflow->bpmll) (1.32.0)\n",
            "Requirement already satisfied: absl-py~=0.10 in /usr/local/lib/python3.6/dist-packages (from tensorflow->bpmll) (0.10.0)\n",
            "Requirement already satisfied: tensorflow-estimator<2.5.0,>=2.4.0rc0 in /usr/local/lib/python3.6/dist-packages (from tensorflow->bpmll) (2.4.0)\n",
            "Requirement already satisfied: flatbuffers~=1.12.0 in /usr/local/lib/python3.6/dist-packages (from tensorflow->bpmll) (1.12)\n",
            "Requirement already satisfied: opt-einsum~=3.3.0 in /usr/local/lib/python3.6/dist-packages (from tensorflow->bpmll) (3.3.0)\n",
            "Requirement already satisfied: tensorboard~=2.4 in /usr/local/lib/python3.6/dist-packages (from tensorflow->bpmll) (2.4.0)\n",
            "Requirement already satisfied: numpy~=1.19.2 in /usr/local/lib/python3.6/dist-packages (from tensorflow->bpmll) (1.19.4)\n",
            "Requirement already satisfied: wheel~=0.35 in /usr/local/lib/python3.6/dist-packages (from tensorflow->bpmll) (0.36.2)\n",
            "Requirement already satisfied: keras-preprocessing~=1.1.2 in /usr/local/lib/python3.6/dist-packages (from tensorflow->bpmll) (1.1.2)\n",
            "Requirement already satisfied: typing-extensions~=3.7.4 in /usr/local/lib/python3.6/dist-packages (from tensorflow->bpmll) (3.7.4.3)\n",
            "Requirement already satisfied: termcolor~=1.1.0 in /usr/local/lib/python3.6/dist-packages (from tensorflow->bpmll) (1.1.0)\n",
            "Requirement already satisfied: astunparse~=1.6.3 in /usr/local/lib/python3.6/dist-packages (from tensorflow->bpmll) (1.6.3)\n",
            "Requirement already satisfied: setuptools in /usr/local/lib/python3.6/dist-packages (from protobuf>=3.9.2->tensorflow->bpmll) (51.0.0)\n",
            "Requirement already satisfied: requests<3,>=2.21.0 in /usr/local/lib/python3.6/dist-packages (from tensorboard~=2.4->tensorflow->bpmll) (2.23.0)\n",
            "Requirement already satisfied: werkzeug>=0.11.15 in /usr/local/lib/python3.6/dist-packages (from tensorboard~=2.4->tensorflow->bpmll) (1.0.1)\n",
            "Requirement already satisfied: google-auth<2,>=1.6.3 in /usr/local/lib/python3.6/dist-packages (from tensorboard~=2.4->tensorflow->bpmll) (1.17.2)\n",
            "Requirement already satisfied: tensorboard-plugin-wit>=1.6.0 in /usr/local/lib/python3.6/dist-packages (from tensorboard~=2.4->tensorflow->bpmll) (1.7.0)\n",
            "Requirement already satisfied: google-auth-oauthlib<0.5,>=0.4.1 in /usr/local/lib/python3.6/dist-packages (from tensorboard~=2.4->tensorflow->bpmll) (0.4.2)\n",
            "Requirement already satisfied: markdown>=2.6.8 in /usr/local/lib/python3.6/dist-packages (from tensorboard~=2.4->tensorflow->bpmll) (3.3.3)\n",
            "Requirement already satisfied: certifi>=2017.4.17 in /usr/local/lib/python3.6/dist-packages (from requests<3,>=2.21.0->tensorboard~=2.4->tensorflow->bpmll) (2020.12.5)\n",
            "Requirement already satisfied: chardet<4,>=3.0.2 in /usr/local/lib/python3.6/dist-packages (from requests<3,>=2.21.0->tensorboard~=2.4->tensorflow->bpmll) (3.0.4)\n",
            "Requirement already satisfied: idna<3,>=2.5 in /usr/local/lib/python3.6/dist-packages (from requests<3,>=2.21.0->tensorboard~=2.4->tensorflow->bpmll) (2.10)\n",
            "Requirement already satisfied: urllib3!=1.25.0,!=1.25.1,<1.26,>=1.21.1 in /usr/local/lib/python3.6/dist-packages (from requests<3,>=2.21.0->tensorboard~=2.4->tensorflow->bpmll) (1.24.3)\n",
            "Requirement already satisfied: cachetools<5.0,>=2.0.0 in /usr/local/lib/python3.6/dist-packages (from google-auth<2,>=1.6.3->tensorboard~=2.4->tensorflow->bpmll) (4.2.0)\n",
            "Requirement already satisfied: rsa<5,>=3.1.4; python_version >= \"3\" in /usr/local/lib/python3.6/dist-packages (from google-auth<2,>=1.6.3->tensorboard~=2.4->tensorflow->bpmll) (4.6)\n",
            "Requirement already satisfied: pyasn1-modules>=0.2.1 in /usr/local/lib/python3.6/dist-packages (from google-auth<2,>=1.6.3->tensorboard~=2.4->tensorflow->bpmll) (0.2.8)\n",
            "Requirement already satisfied: requests-oauthlib>=0.7.0 in /usr/local/lib/python3.6/dist-packages (from google-auth-oauthlib<0.5,>=0.4.1->tensorboard~=2.4->tensorflow->bpmll) (1.3.0)\n",
            "Requirement already satisfied: importlib-metadata; python_version < \"3.8\" in /usr/local/lib/python3.6/dist-packages (from markdown>=2.6.8->tensorboard~=2.4->tensorflow->bpmll) (3.3.0)\n",
            "Requirement already satisfied: pyasn1>=0.1.3 in /usr/local/lib/python3.6/dist-packages (from rsa<5,>=3.1.4; python_version >= \"3\"->google-auth<2,>=1.6.3->tensorboard~=2.4->tensorflow->bpmll) (0.4.8)\n",
            "Requirement already satisfied: oauthlib>=3.0.0 in /usr/local/lib/python3.6/dist-packages (from requests-oauthlib>=0.7.0->google-auth-oauthlib<0.5,>=0.4.1->tensorboard~=2.4->tensorflow->bpmll) (3.1.0)\n",
            "Requirement already satisfied: zipp>=0.5 in /usr/local/lib/python3.6/dist-packages (from importlib-metadata; python_version < \"3.8\"->markdown>=2.6.8->tensorboard~=2.4->tensorflow->bpmll) (3.4.0)\n",
            "Installing collected packages: bpmll\n",
            "Successfully installed bpmll-1.0.0\n"
          ],
          "name": "stdout"
        }
      ]
    },
    {
      "cell_type": "markdown",
      "metadata": {
        "id": "8M8FVFWdeLV6"
      },
      "source": [
        "Install NTLK utils"
      ]
    },
    {
      "cell_type": "code",
      "metadata": {
        "colab": {
          "base_uri": "https://localhost:8080/"
        },
        "id": "n2mpj9uteNzQ",
        "outputId": "142238b6-56a1-47d1-fd3b-44eb828a6856"
      },
      "source": [
        "from nltk import download as nltkdownload\r\n",
        "nltkdownload('punkt')"
      ],
      "execution_count": null,
      "outputs": [
        {
          "output_type": "stream",
          "text": [
            "[nltk_data] Downloading package punkt to /root/nltk_data...\n",
            "[nltk_data]   Unzipping tokenizers/punkt.zip.\n"
          ],
          "name": "stdout"
        },
        {
          "output_type": "execute_result",
          "data": {
            "text/plain": [
              "True"
            ]
          },
          "metadata": {
            "tags": []
          },
          "execution_count": 5
        }
      ]
    },
    {
      "cell_type": "markdown",
      "metadata": {
        "id": "75YnteCbJGqa"
      },
      "source": [
        "# Load datasets"
      ]
    },
    {
      "cell_type": "code",
      "metadata": {
        "colab": {
          "base_uri": "https://localhost:8080/"
        },
        "id": "y7f4i4sNJMJx",
        "outputId": "011b3a2a-37c6-4689-cf9d-bb7028b09b69"
      },
      "source": [
        "from google.colab import drive\r\n",
        "drive.mount('/content/drive')"
      ],
      "execution_count": null,
      "outputs": [
        {
          "output_type": "stream",
          "text": [
            "Drive already mounted at /content/drive; to attempt to forcibly remount, call drive.mount(\"/content/drive\", force_remount=True).\n"
          ],
          "name": "stdout"
        }
      ]
    },
    {
      "cell_type": "code",
      "metadata": {
        "colab": {
          "base_uri": "https://localhost:8080/"
        },
        "id": "Gga3RuwUJOf4",
        "outputId": "9ac53bab-d41e-472a-fe58-4e7b89794444"
      },
      "source": [
        "import numpy as np\r\n",
        "\r\n",
        "X_dev_raw = np.genfromtxt('/content/drive/MyDrive/Machine Learning/Datasets/SemEval-2018 Affect in Tweets E-c/2018-E-c-En-dev.txt', skip_header=1, usecols=(1), dtype=str, delimiter=\"\\t\", comments=\"#@\")\r\n",
        "Y_dev = np.genfromtxt('/content/drive/MyDrive/Machine Learning/Datasets/SemEval-2018 Affect in Tweets E-c/2018-E-c-En-dev.txt', skip_header=1, usecols=list(range(2,13)), delimiter=\"\\t\", comments=\"#@\")\r\n",
        "# numpy.gentext assumes \"#\" as the start of a comment on text, the tweets dataset have a lot of # symbols\r\n",
        "\r\n",
        "X_dev = np.array([s.replace('#', '') for s in X_dev_raw]) # remove all the # \r\n",
        "\r\n",
        "print(X_dev[0])\r\n",
        "print(Y_dev[0])\r\n",
        "print(X_dev.shape, \"\\n\")\r\n",
        "\r\n",
        "X_train_raw = np.genfromtxt('/content/drive/MyDrive/Machine Learning/Datasets/SemEval-2018 Affect in Tweets E-c/2018-E-c-En-train.txt', skip_header=1, usecols=(1), dtype=str, delimiter=\"\\t\", comments=\"#@\")\r\n",
        "Y_train = np.genfromtxt('/content/drive/MyDrive/Machine Learning/Datasets/SemEval-2018 Affect in Tweets E-c/2018-E-c-En-train.txt', skip_header=1, usecols=list(range(2,13)), delimiter=\"\\t\", comments=\"#@\")\r\n",
        "# numpy.gentext assumes \"#\" as the start of a comment on text, the tweets dataset have a lot of # symbols\r\n",
        "\r\n",
        "X_train = np.array([s.replace('#', '') for s in X_train_raw]) # remove all the # \r\n",
        "\r\n",
        "print(X_train[0])\r\n",
        "print(Y_train[0])\r\n",
        "print(Y_train.shape, \"\\n\")\r\n",
        "\r\n",
        "X_test_raw = np.genfromtxt('/content/drive/MyDrive/Machine Learning/Datasets/SemEval-2018 Affect in Tweets E-c/2018-E-c-En-test-gold.txt', skip_header=1, usecols=(1), dtype=str, delimiter=\"\\t\", comments=\"#@\")\r\n",
        "Y_test = np.genfromtxt('/content/drive/MyDrive/Machine Learning/Datasets/SemEval-2018 Affect in Tweets E-c/2018-E-c-En-test-gold.txt', skip_header=1, usecols=list(range(2,13)), delimiter=\"\\t\", comments=\"#@\")\r\n",
        "# numpy.gentext assumes \"#\" as the start of a comment on text, the tweets dataset have a lot of # symbols\r\n",
        "\r\n",
        "X_test = np.array([s.replace('#', '') for s in X_test_raw]) # remove all the # \r\n",
        "\r\n",
        "print(X_test[0])\r\n",
        "print(Y_test[0])\r\n",
        "print(Y_test.shape, \"\\n\")\r\n"
      ],
      "execution_count": null,
      "outputs": [
        {
          "output_type": "stream",
          "text": [
            "@RanaAyyub @rajnathsingh Oh, hidden revenge and anger...I rememberthe time,she rebutted you.\n",
            "[1. 0. 1. 0. 0. 0. 0. 0. 0. 0. 0.]\n",
            "(886,) \n",
            "\n",
            "“Worry is a down payment on a problem you may never have'.  Joyce Meyer.  motivation leadership worry\n",
            "[0. 1. 0. 0. 0. 0. 1. 0. 0. 0. 1.]\n",
            "(6838, 11) \n",
            "\n",
            "@Adnan__786__ @AsYouNotWish Dont worry Indian army is on its ways to dispatch all Terrorists to Hell\n",
            "[1. 1. 0. 0. 0. 0. 1. 0. 0. 0. 1.]\n",
            "(3259, 11) \n",
            "\n"
          ],
          "name": "stdout"
        }
      ]
    },
    {
      "cell_type": "code",
      "metadata": {
        "colab": {
          "base_uri": "https://localhost:8080/"
        },
        "id": "WXwgXdo6SnF4",
        "outputId": "f5cc782f-7ae8-42f0-ca79-40eab0dfcc40"
      },
      "source": [
        "count = 0\r\n",
        "for element in Y_train:\r\n",
        "  if np.sum(element) == 0:\r\n",
        "    count +=1\r\n",
        "print(count)"
      ],
      "execution_count": null,
      "outputs": [
        {
          "output_type": "stream",
          "text": [
            "204\n"
          ],
          "name": "stdout"
        }
      ]
    },
    {
      "cell_type": "code",
      "metadata": {
        "colab": {
          "base_uri": "https://localhost:8080/"
        },
        "id": "bJeuMrEZTSAm",
        "outputId": "917fb476-4316-44d6-fb33-55a2d2c93fa0"
      },
      "source": [
        "Y_train_clean = np.array([item for item in Y_train if np.sum(item)>0])\r\n",
        "print(\"Cleaned Y_train from \", len(Y_train), \" to \", len(Y_train_clean))\r\n",
        "\r\n",
        "X_train_clean = np.array([X_train[i] for i, item in enumerate(Y_train) if np.sum(item)>0])\r\n",
        "print(\"Cleaned X_train from \", len(X_train), \" to \", len(X_train_clean))\r\n",
        "\r\n",
        "Y_dev_clean = np.array([item for item in Y_dev if np.sum(item)>0])\r\n",
        "print(\"Cleaned Y_dev from \", len(Y_dev), \" to \", len(Y_dev_clean))\r\n",
        "\r\n",
        "X_dev_clean = np.array([X_dev[i] for i, item in enumerate(Y_dev) if np.sum(item)>0])\r\n",
        "print(\"Cleaned X_dev from \", len(X_dev), \" to \", len(X_dev_clean))\r\n"
      ],
      "execution_count": null,
      "outputs": [
        {
          "output_type": "stream",
          "text": [
            "Cleaned Y_train from  6838  to  6634\n",
            "Cleaned X_train from  6838  to  6634\n",
            "Cleaned Y_dev from  886  to  872\n",
            "Cleaned X_dev from  886  to  872\n"
          ],
          "name": "stdout"
        }
      ]
    },
    {
      "cell_type": "code",
      "metadata": {
        "colab": {
          "base_uri": "https://localhost:8080/"
        },
        "id": "SNQ4Hzyh4U41",
        "outputId": "4406686c-7423-4f46-ed6c-8132fff382fe"
      },
      "source": [
        "accum = sum(Y_train_clean)\r\n",
        "print(np.around(accum/len(Y_train_clean),decimals=2))"
      ],
      "execution_count": null,
      "outputs": [
        {
          "output_type": "stream",
          "text": [
            "[0.38 0.15 0.39 0.19 0.37 0.11 0.3  0.12 0.3  0.05 0.05]\n"
          ],
          "name": "stdout"
        }
      ]
    },
    {
      "cell_type": "code",
      "metadata": {
        "colab": {
          "base_uri": "https://localhost:8080/"
        },
        "id": "Ir0Q6716Qket",
        "outputId": "af7c1bef-c71a-4360-d965-3d0759a4e692"
      },
      "source": [
        "# Import package\r\n",
        "import pandas as pd\r\n",
        "\r\n",
        "filename='/content/drive/MyDrive/Machine Learning/Datasets/SemEval-2018 Affect in Tweets E-c/2018-E-c-En-test-gold.txt'\r\n",
        "# Build DataFrame of tweet texts and languages. Use pd.DataFrame() to construct a DataFrame of tweet texts and languages; to do so, the first argument should be tweets_data, a list of dictionaries. The second argument to pd.DataFrame() is a list of the keys you wish to have as columns\r\n",
        "df = pd.read_csv(filename, sep='\\t', lineterminator='\\r')\r\n",
        "\r\n",
        "# Print head of DataFrame\r\n",
        "print(df.head())\r\n",
        "print(list(df))\r\n",
        "print(df['Tweet'][0])"
      ],
      "execution_count": null,
      "outputs": [
        {
          "output_type": "stream",
          "text": [
            "                ID  ... trust\n",
            "0  \\n2018-En-01559  ...   1.0\n",
            "1  \\n2018-En-03739  ...   0.0\n",
            "2  \\n2018-En-00385  ...   0.0\n",
            "3  \\n2018-En-03001  ...   0.0\n",
            "4  \\n2018-En-01988  ...   0.0\n",
            "\n",
            "[5 rows x 13 columns]\n",
            "['ID', 'Tweet', 'anger', 'anticipation', 'disgust', 'fear', 'joy', 'love', 'optimism', 'pessimism', 'sadness', 'surprise', 'trust']\n",
            "@Adnan__786__ @AsYouNotWish Dont worry Indian army is on its ways to dispatch all Terrorists to Hell\n"
          ],
          "name": "stdout"
        }
      ]
    },
    {
      "cell_type": "markdown",
      "metadata": {
        "id": "K-wgwujQJ0am"
      },
      "source": [
        "# Generate sentence embeddings"
      ]
    },
    {
      "cell_type": "code",
      "metadata": {
        "id": "M1hIRW3CJ4FL"
      },
      "source": [
        "from laserembeddings import Laser\r\n",
        "\r\n",
        "laser = Laser()\r\n",
        "\r\n",
        "X_train_embeddings = laser.embed_sentences(X_train_clean,lang='en')\r\n",
        "X_dev_embeddings = laser.embed_sentences(X_dev_clean,lang='en')\r\n",
        "X_test_embeddings = laser.embed_sentences(X_test,lang='en')"
      ],
      "execution_count": null,
      "outputs": []
    },
    {
      "cell_type": "code",
      "metadata": {
        "colab": {
          "base_uri": "https://localhost:8080/"
        },
        "id": "fWIoHhikP6CF",
        "outputId": "7b731a93-f7d2-4409-ea1c-b3383d209651"
      },
      "source": [
        "print(X_train_embeddings.shape)\r\n",
        "print(X_dev_embeddings.shape)\r\n",
        "print(X_test_embeddings.shape)"
      ],
      "execution_count": null,
      "outputs": [
        {
          "output_type": "stream",
          "text": [
            "(6634, 1024)\n",
            "(872, 1024)\n",
            "(3259, 1024)\n"
          ],
          "name": "stdout"
        }
      ]
    },
    {
      "cell_type": "markdown",
      "metadata": {
        "id": "ohIvMqGLKLJ4"
      },
      "source": [
        "# Model the classifiers"
      ]
    },
    {
      "cell_type": "code",
      "metadata": {
        "colab": {
          "base_uri": "https://localhost:8080/"
        },
        "id": "dFEt1mBNNgTw",
        "outputId": "f979b611-28e6-454b-ebe2-4fbb40f79b07"
      },
      "source": [
        "import tensorflow as tf\r\n",
        "print(\"Tensorflow version \" + tf.__version__)\r\n",
        "\r\n",
        "try:\r\n",
        "  tpu = tf.distribute.cluster_resolver.TPUClusterResolver()  # TPU detection\r\n",
        "  print('Running on TPU ', tpu.cluster_spec().as_dict()['worker'])\r\n",
        "except ValueError:\r\n",
        "  raise BaseException('ERROR: Not connected to a TPU runtime')\r\n",
        "\r\n",
        "tf.config.experimental_connect_to_cluster(tpu)\r\n",
        "tf.tpu.experimental.initialize_tpu_system(tpu)\r\n",
        "tpu_strategy = tf.distribute.experimental.TPUStrategy(tpu)"
      ],
      "execution_count": null,
      "outputs": [
        {
          "output_type": "stream",
          "text": [
            "Tensorflow version 2.4.0\n",
            "Running on TPU  ['10.90.93.42:8470']\n",
            "INFO:tensorflow:Initializing the TPU system: grpc://10.90.93.42:8470\n"
          ],
          "name": "stdout"
        },
        {
          "output_type": "stream",
          "text": [
            "INFO:tensorflow:Initializing the TPU system: grpc://10.90.93.42:8470\n"
          ],
          "name": "stderr"
        },
        {
          "output_type": "stream",
          "text": [
            "INFO:tensorflow:Clearing out eager caches\n"
          ],
          "name": "stdout"
        },
        {
          "output_type": "stream",
          "text": [
            "INFO:tensorflow:Clearing out eager caches\n"
          ],
          "name": "stderr"
        },
        {
          "output_type": "stream",
          "text": [
            "INFO:tensorflow:Finished initializing TPU system.\n"
          ],
          "name": "stdout"
        },
        {
          "output_type": "stream",
          "text": [
            "INFO:tensorflow:Finished initializing TPU system.\n",
            "WARNING:absl:`tf.distribute.experimental.TPUStrategy` is deprecated, please use  the non experimental symbol `tf.distribute.TPUStrategy` instead.\n"
          ],
          "name": "stderr"
        },
        {
          "output_type": "stream",
          "text": [
            "INFO:tensorflow:Found TPU system:\n"
          ],
          "name": "stdout"
        },
        {
          "output_type": "stream",
          "text": [
            "INFO:tensorflow:Found TPU system:\n"
          ],
          "name": "stderr"
        },
        {
          "output_type": "stream",
          "text": [
            "INFO:tensorflow:*** Num TPU Cores: 8\n"
          ],
          "name": "stdout"
        },
        {
          "output_type": "stream",
          "text": [
            "INFO:tensorflow:*** Num TPU Cores: 8\n"
          ],
          "name": "stderr"
        },
        {
          "output_type": "stream",
          "text": [
            "INFO:tensorflow:*** Num TPU Workers: 1\n"
          ],
          "name": "stdout"
        },
        {
          "output_type": "stream",
          "text": [
            "INFO:tensorflow:*** Num TPU Workers: 1\n"
          ],
          "name": "stderr"
        },
        {
          "output_type": "stream",
          "text": [
            "INFO:tensorflow:*** Num TPU Cores Per Worker: 8\n"
          ],
          "name": "stdout"
        },
        {
          "output_type": "stream",
          "text": [
            "INFO:tensorflow:*** Num TPU Cores Per Worker: 8\n"
          ],
          "name": "stderr"
        },
        {
          "output_type": "stream",
          "text": [
            "INFO:tensorflow:*** Available Device: _DeviceAttributes(/job:localhost/replica:0/task:0/device:CPU:0, CPU, 0, 0)\n"
          ],
          "name": "stdout"
        },
        {
          "output_type": "stream",
          "text": [
            "INFO:tensorflow:*** Available Device: _DeviceAttributes(/job:localhost/replica:0/task:0/device:CPU:0, CPU, 0, 0)\n"
          ],
          "name": "stderr"
        },
        {
          "output_type": "stream",
          "text": [
            "INFO:tensorflow:*** Available Device: _DeviceAttributes(/job:worker/replica:0/task:0/device:CPU:0, CPU, 0, 0)\n"
          ],
          "name": "stdout"
        },
        {
          "output_type": "stream",
          "text": [
            "INFO:tensorflow:*** Available Device: _DeviceAttributes(/job:worker/replica:0/task:0/device:CPU:0, CPU, 0, 0)\n"
          ],
          "name": "stderr"
        },
        {
          "output_type": "stream",
          "text": [
            "INFO:tensorflow:*** Available Device: _DeviceAttributes(/job:worker/replica:0/task:0/device:TPU:0, TPU, 0, 0)\n"
          ],
          "name": "stdout"
        },
        {
          "output_type": "stream",
          "text": [
            "INFO:tensorflow:*** Available Device: _DeviceAttributes(/job:worker/replica:0/task:0/device:TPU:0, TPU, 0, 0)\n"
          ],
          "name": "stderr"
        },
        {
          "output_type": "stream",
          "text": [
            "INFO:tensorflow:*** Available Device: _DeviceAttributes(/job:worker/replica:0/task:0/device:TPU:1, TPU, 0, 0)\n"
          ],
          "name": "stdout"
        },
        {
          "output_type": "stream",
          "text": [
            "INFO:tensorflow:*** Available Device: _DeviceAttributes(/job:worker/replica:0/task:0/device:TPU:1, TPU, 0, 0)\n"
          ],
          "name": "stderr"
        },
        {
          "output_type": "stream",
          "text": [
            "INFO:tensorflow:*** Available Device: _DeviceAttributes(/job:worker/replica:0/task:0/device:TPU:2, TPU, 0, 0)\n"
          ],
          "name": "stdout"
        },
        {
          "output_type": "stream",
          "text": [
            "INFO:tensorflow:*** Available Device: _DeviceAttributes(/job:worker/replica:0/task:0/device:TPU:2, TPU, 0, 0)\n"
          ],
          "name": "stderr"
        },
        {
          "output_type": "stream",
          "text": [
            "INFO:tensorflow:*** Available Device: _DeviceAttributes(/job:worker/replica:0/task:0/device:TPU:3, TPU, 0, 0)\n"
          ],
          "name": "stdout"
        },
        {
          "output_type": "stream",
          "text": [
            "INFO:tensorflow:*** Available Device: _DeviceAttributes(/job:worker/replica:0/task:0/device:TPU:3, TPU, 0, 0)\n"
          ],
          "name": "stderr"
        },
        {
          "output_type": "stream",
          "text": [
            "INFO:tensorflow:*** Available Device: _DeviceAttributes(/job:worker/replica:0/task:0/device:TPU:4, TPU, 0, 0)\n"
          ],
          "name": "stdout"
        },
        {
          "output_type": "stream",
          "text": [
            "INFO:tensorflow:*** Available Device: _DeviceAttributes(/job:worker/replica:0/task:0/device:TPU:4, TPU, 0, 0)\n"
          ],
          "name": "stderr"
        },
        {
          "output_type": "stream",
          "text": [
            "INFO:tensorflow:*** Available Device: _DeviceAttributes(/job:worker/replica:0/task:0/device:TPU:5, TPU, 0, 0)\n"
          ],
          "name": "stdout"
        },
        {
          "output_type": "stream",
          "text": [
            "INFO:tensorflow:*** Available Device: _DeviceAttributes(/job:worker/replica:0/task:0/device:TPU:5, TPU, 0, 0)\n"
          ],
          "name": "stderr"
        },
        {
          "output_type": "stream",
          "text": [
            "INFO:tensorflow:*** Available Device: _DeviceAttributes(/job:worker/replica:0/task:0/device:TPU:6, TPU, 0, 0)\n"
          ],
          "name": "stdout"
        },
        {
          "output_type": "stream",
          "text": [
            "INFO:tensorflow:*** Available Device: _DeviceAttributes(/job:worker/replica:0/task:0/device:TPU:6, TPU, 0, 0)\n"
          ],
          "name": "stderr"
        },
        {
          "output_type": "stream",
          "text": [
            "INFO:tensorflow:*** Available Device: _DeviceAttributes(/job:worker/replica:0/task:0/device:TPU:7, TPU, 0, 0)\n"
          ],
          "name": "stdout"
        },
        {
          "output_type": "stream",
          "text": [
            "INFO:tensorflow:*** Available Device: _DeviceAttributes(/job:worker/replica:0/task:0/device:TPU:7, TPU, 0, 0)\n"
          ],
          "name": "stderr"
        },
        {
          "output_type": "stream",
          "text": [
            "INFO:tensorflow:*** Available Device: _DeviceAttributes(/job:worker/replica:0/task:0/device:TPU_SYSTEM:0, TPU_SYSTEM, 0, 0)\n"
          ],
          "name": "stdout"
        },
        {
          "output_type": "stream",
          "text": [
            "INFO:tensorflow:*** Available Device: _DeviceAttributes(/job:worker/replica:0/task:0/device:TPU_SYSTEM:0, TPU_SYSTEM, 0, 0)\n"
          ],
          "name": "stderr"
        },
        {
          "output_type": "stream",
          "text": [
            "INFO:tensorflow:*** Available Device: _DeviceAttributes(/job:worker/replica:0/task:0/device:XLA_CPU:0, XLA_CPU, 0, 0)\n"
          ],
          "name": "stdout"
        },
        {
          "output_type": "stream",
          "text": [
            "INFO:tensorflow:*** Available Device: _DeviceAttributes(/job:worker/replica:0/task:0/device:XLA_CPU:0, XLA_CPU, 0, 0)\n"
          ],
          "name": "stderr"
        }
      ]
    },
    {
      "cell_type": "code",
      "metadata": {
        "colab": {
          "base_uri": "https://localhost:8080/"
        },
        "id": "62qI_M1lKP-4",
        "outputId": "41ff6b53-9d1b-4036-b595-5465c12c7205"
      },
      "source": [
        "from tensorflow.keras.models import Sequential\r\n",
        "from tensorflow.keras.layers import Dense, Dropout\r\n",
        "from tensorflow.keras.losses import BinaryCrossentropy\r\n",
        "\r\n",
        "from keras.wrappers.scikit_learn import KerasClassifier\r\n",
        "from sklearn.model_selection import cross_val_score\r\n",
        "from sklearn.preprocessing import LabelEncoder\r\n",
        "from sklearn.model_selection import StratifiedKFold\r\n",
        "from sklearn.preprocessing import StandardScaler\r\n",
        "from sklearn.pipeline import Pipeline\r\n",
        "\r\n",
        "n = X_train_embeddings.shape[0]\r\n",
        "dim_no = X_train_embeddings.shape[1]\r\n",
        "class_no = Y_train_clean.shape[1]\r\n",
        "\r\n",
        "\r\n",
        "# baseline model\r\n",
        "def create_baseline(number_of_classes=class_no):\r\n",
        "  # create model\r\n",
        "  model = Sequential()\r\n",
        "  model.add(Dense(128, input_dim=dim_no, activation='relu'))\r\n",
        "  model.add(Dropout(0.2))\r\n",
        "  model.add(Dense(number_of_classes, activation='sigmoid'))\r\n",
        "  # Compile model\r\n",
        "  model.compile(loss='binary_crossentropy', optimizer='adam', metrics=['accuracy'])\r\n",
        "  return model\r\n",
        "\r\n",
        "labels = ['anger', 'anticipation', 'disgust', 'fear', 'joy', 'love', 'optimism', 'pessimism', 'sadness', 'surprise', 'trust']\r\n",
        "\r\n",
        "# evaluate model with stratified datasets\r\n",
        "stats = []\r\n",
        "for i in range(11):\r\n",
        "  ordinal = i\r\n",
        "  X_input = X_train_embeddings\r\n",
        "  Y_output = Y_train_clean[:,ordinal]\r\n",
        "\r\n",
        "  estimator = KerasClassifier(build_fn=create_baseline, number_of_classes=1, epochs=5, batch_size=128, verbose=0)\r\n",
        "  kfold = StratifiedKFold(n_splits=4, shuffle=True)\r\n",
        "  results = cross_val_score(estimator, X_input, Y_output, cv=kfold)\r\n",
        "  print(labels[i], \"baseline: %.2f%% (%.2f%%)\" % (results.mean()*100, results.std()*100))\r\n",
        "  stats.append(results.mean())\r\n",
        "\r\n",
        "print(\"average: %.2f%% (%.2f%%)\" % (np.mean(stats)*100, np.std(stats)*100))"
      ],
      "execution_count": null,
      "outputs": [
        {
          "output_type": "stream",
          "text": [
            "anger baseline: 74.62% (1.95%)\n",
            "anticipation baseline: 85.26% (0.03%)\n",
            "disgust baseline: 73.05% (1.50%)\n",
            "fear baseline: 81.40% (0.12%)\n",
            "joy baseline: 79.38% (0.79%)\n",
            "love baseline: 89.45% (0.00%)\n",
            "optimism baseline: 76.21% (0.74%)\n",
            "pessimism baseline: 88.02% (0.02%)\n",
            "sadness baseline: 72.28% (0.43%)\n",
            "surprise baseline: 94.56% (0.03%)\n",
            "trust baseline: 94.62% (0.03%)\n",
            "average: 82.62% (7.89%)\n"
          ],
          "name": "stdout"
        }
      ]
    },
    {
      "cell_type": "code",
      "metadata": {
        "colab": {
          "base_uri": "https://localhost:8080/"
        },
        "id": "DV4fp3jS0c48",
        "outputId": "3f649481-d6f4-442a-efc0-059ca725c94a"
      },
      "source": [
        "#fit the model to one dimension\r\n",
        "selection = 8\r\n",
        "model = create_baseline(number_of_classes=1)\r\n",
        "model.fit(X_train_embeddings, Y_train_clean[:,selection], epochs=20, validation_data=(X_dev_embeddings, Y_dev_clean[:,selection]))"
      ],
      "execution_count": null,
      "outputs": [
        {
          "output_type": "stream",
          "text": [
            "Epoch 1/20\n",
            "208/208 [==============================] - 3s 12ms/step - loss: 0.6121 - accuracy: 0.6981 - val_loss: 0.5700 - val_accuracy: 0.6984\n",
            "Epoch 2/20\n",
            "208/208 [==============================] - 2s 11ms/step - loss: 0.5605 - accuracy: 0.7062 - val_loss: 0.5251 - val_accuracy: 0.7362\n",
            "Epoch 3/20\n",
            "208/208 [==============================] - 2s 11ms/step - loss: 0.5115 - accuracy: 0.7483 - val_loss: 0.5014 - val_accuracy: 0.7534\n",
            "Epoch 4/20\n",
            "208/208 [==============================] - 2s 11ms/step - loss: 0.4864 - accuracy: 0.7639 - val_loss: 0.5051 - val_accuracy: 0.7557\n",
            "Epoch 5/20\n",
            "208/208 [==============================] - 2s 11ms/step - loss: 0.4801 - accuracy: 0.7708 - val_loss: 0.4835 - val_accuracy: 0.7615\n",
            "Epoch 6/20\n",
            "208/208 [==============================] - 2s 11ms/step - loss: 0.4567 - accuracy: 0.7791 - val_loss: 0.4948 - val_accuracy: 0.7557\n",
            "Epoch 7/20\n",
            "208/208 [==============================] - 2s 11ms/step - loss: 0.4500 - accuracy: 0.7951 - val_loss: 0.4886 - val_accuracy: 0.7580\n",
            "Epoch 8/20\n",
            "208/208 [==============================] - 2s 11ms/step - loss: 0.4406 - accuracy: 0.7984 - val_loss: 0.4791 - val_accuracy: 0.7695\n",
            "Epoch 9/20\n",
            "208/208 [==============================] - 2s 11ms/step - loss: 0.4282 - accuracy: 0.8006 - val_loss: 0.4800 - val_accuracy: 0.7695\n",
            "Epoch 10/20\n",
            "208/208 [==============================] - 2s 11ms/step - loss: 0.4424 - accuracy: 0.7878 - val_loss: 0.4788 - val_accuracy: 0.7661\n",
            "Epoch 11/20\n",
            "208/208 [==============================] - 2s 11ms/step - loss: 0.4227 - accuracy: 0.8017 - val_loss: 0.4835 - val_accuracy: 0.7683\n",
            "Epoch 12/20\n",
            "208/208 [==============================] - 2s 11ms/step - loss: 0.4242 - accuracy: 0.7989 - val_loss: 0.4837 - val_accuracy: 0.7649\n",
            "Epoch 13/20\n",
            "208/208 [==============================] - 2s 11ms/step - loss: 0.4145 - accuracy: 0.8128 - val_loss: 0.4811 - val_accuracy: 0.7683\n",
            "Epoch 14/20\n",
            "208/208 [==============================] - 2s 11ms/step - loss: 0.4054 - accuracy: 0.8203 - val_loss: 0.4845 - val_accuracy: 0.7603\n",
            "Epoch 15/20\n",
            "208/208 [==============================] - 2s 11ms/step - loss: 0.4017 - accuracy: 0.8141 - val_loss: 0.4833 - val_accuracy: 0.7706\n",
            "Epoch 16/20\n",
            "208/208 [==============================] - 2s 12ms/step - loss: 0.4055 - accuracy: 0.8167 - val_loss: 0.4834 - val_accuracy: 0.7649\n",
            "Epoch 17/20\n",
            "208/208 [==============================] - 2s 12ms/step - loss: 0.4125 - accuracy: 0.8091 - val_loss: 0.4880 - val_accuracy: 0.7603\n",
            "Epoch 18/20\n",
            "208/208 [==============================] - 2s 12ms/step - loss: 0.3917 - accuracy: 0.8159 - val_loss: 0.4900 - val_accuracy: 0.7557\n",
            "Epoch 19/20\n",
            "208/208 [==============================] - 2s 11ms/step - loss: 0.4056 - accuracy: 0.8114 - val_loss: 0.4934 - val_accuracy: 0.7580\n",
            "Epoch 20/20\n",
            "208/208 [==============================] - 2s 11ms/step - loss: 0.4029 - accuracy: 0.8181 - val_loss: 0.4931 - val_accuracy: 0.7718\n"
          ],
          "name": "stdout"
        },
        {
          "output_type": "execute_result",
          "data": {
            "text/plain": [
              "<tensorflow.python.keras.callbacks.History at 0x7f3cf68185c0>"
            ]
          },
          "metadata": {
            "tags": []
          },
          "execution_count": 232
        }
      ]
    },
    {
      "cell_type": "code",
      "metadata": {
        "colab": {
          "base_uri": "https://localhost:8080/"
        },
        "id": "iEAEZQGZNFyg",
        "outputId": "f0f5d5ec-b8f4-4c44-b5d3-bcaf306ee317"
      },
      "source": [
        "#fit the model to all dimensions\r\n",
        "models = []\r\n",
        "for i in range(class_no):\r\n",
        "  model = create_baseline(number_of_classes=1)\r\n",
        "  Y_train_split = Y_train_clean[:,i]\r\n",
        "  Y_dev_split = Y_dev_clean[:,i]\r\n",
        "  print(\"processing model for\",labels[i])\r\n",
        "  model.fit(X_train_embeddings, Y_train_split, epochs=10, validation_data=(X_dev_embeddings, Y_dev_split), verbose=0)\r\n",
        "  models.append(model)\r\n",
        "\r\n",
        "print(\"trained\", len(models), \"models\")"
      ],
      "execution_count": null,
      "outputs": [
        {
          "output_type": "stream",
          "text": [
            "processing model for anger\n",
            "processing model for anticipation\n",
            "processing model for disgust\n",
            "processing model for fear\n",
            "processing model for joy\n",
            "processing model for love\n",
            "processing model for optimism\n",
            "processing model for pessimism\n",
            "processing model for sadness\n",
            "processing model for surprise\n",
            "processing model for trust\n",
            "trained 11 models\n"
          ],
          "name": "stdout"
        }
      ]
    },
    {
      "cell_type": "markdown",
      "metadata": {
        "id": "MVn2WKtiLPZr"
      },
      "source": [
        "# Evaluate the classifiers"
      ]
    },
    {
      "cell_type": "code",
      "metadata": {
        "colab": {
          "base_uri": "https://localhost:8080/"
        },
        "id": "edxUG2i3LYyz",
        "outputId": "265e672e-83d4-4bc8-9dfc-45045a7f69f3"
      },
      "source": [
        "# Evaluate the model on the test data using `evaluate`\r\n",
        "print(\"Evaluate on test data\")\r\n",
        "results=[]\r\n",
        "for i, model in enumerate(models):\r\n",
        "  Y_dev_split = Y_dev_clean[:,i]\r\n",
        "  partial = model.evaluate(X_dev_embeddings, Y_dev_split, batch_size=128, verbose=0)\r\n",
        "  print(labels[i], \"test loss, test acc:\", partial)\r\n"
      ],
      "execution_count": null,
      "outputs": [
        {
          "output_type": "stream",
          "text": [
            "Evaluate on test data\n",
            "anger test loss, test acc: [0.4944448471069336, 0.7568807601928711]\n",
            "anticipation test loss, test acc: [0.39562666416168213, 0.8589449524879456]\n",
            "disgust test loss, test acc: [0.4880869388580322, 0.7568807601928711]\n",
            "fear test loss, test acc: [0.25919538736343384, 0.9036697149276733]\n",
            "joy test loss, test acc: [0.44426000118255615, 0.78899085521698]\n",
            "love test loss, test acc: [0.29084280133247375, 0.8715596199035645]\n",
            "optimism test loss, test acc: [0.4670793414115906, 0.7844036817550659]\n",
            "pessimism test loss, test acc: [0.3221796154975891, 0.8910550475120544]\n",
            "sadness test loss, test acc: [0.4782714545726776, 0.7683486342430115]\n",
            "surprise test loss, test acc: [0.14201349020004272, 0.9598624110221863]\n",
            "trust test loss, test acc: [0.18342220783233643, 0.9506880640983582]\n"
          ],
          "name": "stdout"
        }
      ]
    },
    {
      "cell_type": "code",
      "metadata": {
        "colab": {
          "base_uri": "https://localhost:8080/"
        },
        "id": "aDRCVkECODTE",
        "outputId": "99e13cdb-18e2-4227-b733-31f34e2166f8"
      },
      "source": [
        "# Calculate F1 score for one dimension\r\n",
        "\r\n",
        "true = Y_test[:,selection]\r\n",
        "prediction = models[selection].predict(X_test_embeddings)\r\n",
        "\r\n",
        "sample = 10\r\n",
        "\r\n",
        "# Normalize output\r\n",
        "from sklearn.preprocessing import Binarizer\r\n",
        "transformer = Binarizer(threshold=0.5).fit(prediction)  # fit does nothing.\r\n",
        "prediction = transformer.transform(prediction)\r\n",
        "flat = [x[0] for x in prediction]\r\n",
        "\r\n",
        "#print(labels[selection])\r\n",
        "#print(X_test[0:5])\r\n",
        "#print(true[0:5])\r\n",
        "#print(flat[0:5])\r\n",
        "\r\n",
        "recall = recall_score(y_true=true, y_pred=flat, average='weighted')\r\n",
        "precision = precision_score(y_true=true, y_pred=flat, average='weighted')\r\n",
        "score = f1_score(y_true=true, y_pred=flat, average='weighted')\r\n",
        "\r\n",
        "print(recall, precision, score, \"\\n\")\r\n",
        "\r\n",
        "for i in range(sample):\r\n",
        "  print(X_test[i])\r\n",
        "  print(\"predicted\",labels[selection], bool(flat[i]))\r\n",
        "  print(\"expected\",labels[selection], bool(true[i]), \"\\n\")"
      ],
      "execution_count": null,
      "outputs": [
        {
          "output_type": "stream",
          "text": [
            "0.7821417612764652 0.7736761494486198 0.775536220429787 \n",
            "\n",
            "@Adnan__786__ @AsYouNotWish Dont worry Indian army is on its ways to dispatch all Terrorists to Hell\n",
            "predicted sadness True\n",
            "expected sadness False \n",
            "\n",
            "Academy of Sciences, eschews the normally sober tone of scientific papers and calls the massive loss of wildlife a “biological annihilation\n",
            "predicted sadness False\n",
            "expected sadness False \n",
            "\n",
            "I blew that opportunity -__- mad\n",
            "predicted sadness False\n",
            "expected sadness True \n",
            "\n",
            "This time in 2 weeks I will be 30... 😥\n",
            "predicted sadness False\n",
            "expected sadness True \n",
            "\n",
            "Deppression is real. Partners w/ depressed people truly dont understand the depth in which they affect us. Add in anxiety &amp;makes it worse\n",
            "predicted sadness True\n",
            "expected sadness True \n",
            "\n",
            "@POLITICOEurope Interesting choice of words... Are you confirming that governments fund terrorism? Bit of an open door, but still...\n",
            "predicted sadness False\n",
            "expected sadness False \n",
            "\n",
            "@ananavarro CNN should, for sure 😀\n",
            "predicted sadness False\n",
            "expected sadness False \n",
            "\n",
            "Distance yourself once stretched by your friends impose! serious loveyou notseriously\n",
            "predicted sadness False\n",
            "expected sadness False \n",
            "\n",
            "Be happy. Be confident. Be kind.\\n\\n KissablesLoveSMShopmag\\nAllOutDenimFor KISSMARC\n",
            "predicted sadness False\n",
            "expected sadness False \n",
            "\n",
            "My visit to hospital for care triggered trauma from accident 20+yrs ago and image of my dead brother in it. Feeling symptoms of depression\n",
            "predicted sadness True\n",
            "expected sadness True \n",
            "\n"
          ],
          "name": "stdout"
        }
      ]
    },
    {
      "cell_type": "code",
      "metadata": {
        "colab": {
          "base_uri": "https://localhost:8080/"
        },
        "id": "xKE9b6XY3PzH",
        "outputId": "69f4d392-c8cc-4aae-b56a-67c7342cb931"
      },
      "source": [
        "# Calculate F1 score for all dimensions\r\n",
        "\r\n",
        "for i in range(class_no):\r\n",
        "  true = Y_test[:,i]\r\n",
        "  prediction = models[i].predict(X_test_embeddings)\r\n",
        "\r\n",
        "  # Normalize output\r\n",
        "  from sklearn.preprocessing import Binarizer\r\n",
        "  transformer = Binarizer(threshold=0.5).fit(prediction)  # fit does nothing.\r\n",
        "  prediction = transformer.transform(prediction)\r\n",
        "\r\n",
        "  #calc\r\n",
        "  from sklearn.metrics import f1_score, recall_score, precision_score\r\n",
        "\r\n",
        "  recall = recall_score(y_true=true, y_pred=prediction, average='weighted')\r\n",
        "  precision = precision_score(y_true=true, y_pred=prediction, average='weighted')\r\n",
        "  score = f1_score(y_true=true, y_pred=prediction, average='weighted')\r\n",
        "\r\n",
        "  print(\"%.2f %.2f %.2f\" % (recall, precision, score), labels[i])"
      ],
      "execution_count": null,
      "outputs": [
        {
          "output_type": "stream",
          "text": [
            "0.80 0.80 0.80 anger\n",
            "0.87 0.81 0.81 anticipation\n",
            "0.77 0.77 0.77 disgust\n",
            "0.90 0.89 0.88 fear\n",
            "0.82 0.82 0.82 joy\n",
            "0.88 0.88 0.88 love\n",
            "0.77 0.76 0.76 optimism\n",
            "0.89 0.85 0.84 pessimism\n",
            "0.78 0.77 0.78 sadness\n",
            "0.95 0.90 0.92 surprise\n",
            "0.95 0.91 0.93 trust\n"
          ],
          "name": "stdout"
        }
      ]
    },
    {
      "cell_type": "code",
      "metadata": {
        "colab": {
          "base_uri": "https://localhost:8080/"
        },
        "id": "1L9FI9qcWBS2",
        "outputId": "6ac2e6cf-4892-4548-b0ce-711a5844cbee"
      },
      "source": [
        "# Test with popular tweets\r\n",
        "obama = \"No one is born hating another person because of the color of his skin or his background or his religion...\"\r\n",
        "culkin = '''Hey guys, wanna feel old?\r\n",
        "I'm 40.\r\n",
        "You're welcome.'''\r\n",
        "mel = \"IM OFFICIALLY CANCER FREE !!! 😭😭😭❤️❤️❤️\"\r\n",
        "kamala =\"We did it, @JoeBiden.\"\r\n",
        "obama2 = \"Kobe was a legend on the court and just getting started in what would have been just as meaningful a second act. To lose Gianna is even more heartbreaking to us as parents. Michelle and I send love and prayers to Vanessa and the entire Bryant family on an unthinkable day.\"\r\n",
        "trump = '''Tonight, \r\n",
        "@FLOTUS\r\n",
        " and I tested positive for COVID-19. We will begin our quarantine and recovery process immediately. We will get through this TOGETHER!'''\r\n",
        "trump2 = '''@FoxNews\r\n",
        " daytime is not watchable. In a class with CNN & MSDNC. Check out \r\n",
        "@OANN\r\n",
        ", \r\n",
        "@newsmax\r\n",
        " and others that are picking up the slack. Even a boring football game, kneeling and all, is better!'''\r\n",
        "trump3 = '''...WOW, he just voted against me in a Big Court Decision on voter fraud (of which there was much!), despite many pages of dissent from three highly respected Justices. One thing has nothing to do with another, but we ended up losing 4-3 in a really incorrect ruling! Great...'''\r\n",
        "abascal = '''No puedes trabajar.\r\n",
        "\r\n",
        "No puedes salir por la noche.\r\n",
        "\r\n",
        "No puedes cambiar de provincia.\r\n",
        "\r\n",
        "No puedes elegir la educación de tu hijo.\r\n",
        "\r\n",
        "No puedes saber cuánta gente ha muerto por la pandemia.\r\n",
        "\r\n",
        "Pero, gracias al gobierno social delincuente, puedes ir al hospital a pedir que te maten.'''\r\n",
        "\r\n",
        "loteria='''#LoteríaA3N | En la mítica 'gasolinera de la suerte' de Tenerife vuelve a ir todo sobre ruedas. Allí ha tocado #ElGordo y un quinto premio: \"Este año todo han sido malas noticias y lo deseábamos mucho\"'''\r\n",
        "\r\n",
        "a3n=\"España podrá empezar a vacunar del #coronavirus este domingo tras el visto bueno de la Agencia Europea del Medicamento a la vacuna de Pfizer\"\r\n",
        "zoom=\"Zoom ha comunicado que eliminará el límite de 40 minutos en las llamadas entre usuarios gratuitos durante la Navidad\"\r\n",
        "paula=\"Con el círculo tan bonito tengo que hasta me sale Trump y va y me lo fastidia Pablo Casado...¡no me lo puedo creer!, jajaja.\"\r\n",
        "rey='''Los del #mireyesfelipevi,\r\n",
        "¿Si tanto os gusta por qué no os lo lleváis a vuestra casa y le pagáis el sueldo a él y a su familia?'''\r\n",
        "abascal_reply='''Los delincuentes ladrones se protegen entre sí. Tu Abascal no puedes dar lecciones de moralidad, ni de  ética. Pues eso a defender a los de tu especie.. PARÁSITOS. Tu también tienes mucha experiencia e vivir del cuento. Limpiemos España de gandules tuuuu..'''\r\n",
        "abascal_reply2='''Lo siento mucho Santi, pero el rey lleva el puto pin de la agenda globalista 2030, es uno de ellos... Su madre desde Bidelberg le mueve los hilos... Estáis solos en esto... Como \r\n",
        "@realDonaldTrump'''\r\n",
        "disabled = '''Estando discapacitado mi ex pareja después de 10 años de relación me dejó y me culpó de mi salud. Tuve que cerrar mi empresa y tuve que irme a vivir a casa de mi padre viudo y mayor para que me cuidara. \r\n",
        "Todos tenemos la fuerza para seguir adelante, solo hay que encontrarla.'''\r\n",
        "\r\n",
        "import re\r\n",
        "regex = r\"[.]{2,3}\"\r\n",
        "subst = \".\"\r\n",
        "regexed = re.sub(regex, subst, disabled)\r\n",
        "\r\n",
        "from nltk import tokenize\r\n",
        "sentences = tokenize.sent_tokenize(regexed)\r\n",
        "embeddings = laser.embed_sentences(sentences,lang='en')\r\n",
        "print(sentences)\r\n",
        "print(embeddings.shape)\r\n",
        "\r\n",
        "from sklearn.preprocessing import Binarizer\r\n",
        "threshold = 0.5\r\n",
        "X=[[0]]\r\n",
        "transformer = Binarizer(threshold=threshold).fit(X)  # fit does nothing.\r\n",
        "\r\n",
        "for i, sentence in enumerate(sentences):\r\n",
        "  print(\"\\n\", sentence)\r\n",
        "  single_embedding = np.array([embeddings[i]])\r\n",
        "  for j, model in enumerate(models):\r\n",
        "    prediction = model.predict(single_embedding)\r\n",
        "    # Normalize output    \r\n",
        "    normalized = transformer.transform(prediction)\r\n",
        "    result = bool(normalized[0,0])\r\n",
        "    if result: print(\"guessed\", labels[j], \"with prob\", prediction[0,0])\r\n",
        "\r\n",
        "#for j, model in enumerate(models):\r\n",
        "  #predictions = model.predict(embeddings)\r\n",
        "  #for i, sentence in enumerate(sentences):\r\n",
        "    #print(sentence)\r\n",
        "    #print(predictions[i])\r\n",
        "    #results = [x[0] for x in predictions[i]]\r\n",
        "    #print(\"guessing\",labels[j])\r\n",
        "    #print(results)"
      ],
      "execution_count": null,
      "outputs": [
        {
          "output_type": "stream",
          "text": [
            "['Estando discapacitado mi ex pareja después de 10 años de relación me dejó y me culpó de mi salud.', 'Tuve que cerrar mi empresa y tuve que irme a vivir a casa de mi padre viudo y mayor para que me cuidara.', 'Todos tenemos la fuerza para seguir adelante, solo hay que encontrarla.']\n",
            "(3, 1024)\n",
            "\n",
            " Estando discapacitado mi ex pareja después de 10 años de relación me dejó y me culpó de mi salud.\n",
            "guessed anger with prob 0.60721034\n",
            "guessed sadness with prob 0.72548664\n",
            "\n",
            " Tuve que cerrar mi empresa y tuve que irme a vivir a casa de mi padre viudo y mayor para que me cuidara.\n",
            "\n",
            " Todos tenemos la fuerza para seguir adelante, solo hay que encontrarla.\n",
            "guessed optimism with prob 0.7915448\n"
          ],
          "name": "stdout"
        }
      ]
    },
    {
      "cell_type": "code",
      "metadata": {
        "colab": {
          "base_uri": "https://localhost:8080/"
        },
        "id": "6FSrd0wouS2B",
        "outputId": "78f77372-fc92-4ee6-c61a-fa26d7b79e4e"
      },
      "source": [
        "import json\r\n",
        "from json import JSONEncoder\r\n",
        "import numpy\r\n",
        "\r\n",
        "class NumpyArrayEncoder(JSONEncoder):\r\n",
        "    def default(self, obj):\r\n",
        "        if isinstance(obj, numpy.ndarray):\r\n",
        "            return obj.tolist()\r\n",
        "        return JSONEncoder.default(self, obj)\r\n",
        "\r\n",
        "# Serialization\r\n",
        "numpyData = {\"array\": embeddings}\r\n",
        "encodedNumpyData = json.dumps(numpyData, cls=NumpyArrayEncoder)  # use dump() to write array into file\r\n",
        "print(\"Printing JSON serialized NumPy array\")\r\n",
        "print(encodedNumpyData)\r\n",
        "\r\n",
        "# Save to file\r\n",
        "with open(\"/content/drive/MyDrive/Machine Learning/Datasets/SemEval-2018 Affect in Tweets E-c/embeddings.json\", \"w\") as embeddings_file:\r\n",
        "      embeddings_file.write(encodedNumpyData)"
      ],
      "execution_count": null,
      "outputs": [
        {
          "output_type": "stream",
          "text": [
            "Printing JSON serialized NumPy array\n",
            "{\"array\": [[0.024796972051262856, 0.045601099729537964, 0.002532974584028125, 0.004394921474158764, 0.010344580747187138, 0.004091605544090271, 0.012954209931194782, 0.005151262041181326, 0.010556516237556934, 0.03964399918913841, 0.01787501573562622, 0.01139589212834835, 0.013363514095544815, 0.013372454792261124, 0.001467935391701758, 0.039863284677267075, 0.03791657090187073, -0.00015601736959069967, 0.0019241657573729753, 0.00683590630069375, 0.019809693098068237, 0.02854272723197937, -4.746748527395539e-05, 0.039664123207330704, 0.02000419609248638, 0.02013053186237812, 0.029920151457190514, 0.009359641000628471, 0.0005113229271955788, 0.0012880692956969142, 5.5795877415221184e-05, 0.009435273706912994, 0.008825259283185005, 0.02114678919315338, 0.02514241263270378, 0.009719683788716793, 0.009697988629341125, 0.01720561273396015, -0.0019446113146841526, 0.001895297085866332, 0.007857268676161766, 0.007311737630516291, 0.00246702809818089, -3.131147241219878e-05, 0.012268449179828167, 0.027147676795721054, 0.00324812950566411, -0.00031134241726249456, 0.04206107184290886, 0.025947822257876396, 0.011705458164215088, -0.0017271856777369976, 0.014001167379319668, 0.009190786629915237, -4.649096808861941e-05, -6.310555909294635e-05, 0.008477495051920414, 0.003081349888816476, 0.007786908652633429, 0.034066904336214066, 0.03118050843477249, 0.0023572957143187523, 0.0028009081725031137, 0.0023380599450320005, 0.05916257202625275, 0.003469496965408325, 0.009341740049421787, -0.0038270384538918734, 0.005450263619422913, 0.013386945240199566, 0.009754995815455914, 0.0051310062408447266, -0.001991830999031663, 0.017441626638174057, -0.0016602015821263194, 0.03687687963247299, 0.019552230834960938, 0.005123220384120941, 0.016137858852744102, 0.0017402061494067311, 0.017325522378087044, 0.03191229701042175, 0.009014403447508812, 0.02133961021900177, 0.0153707480058074, 0.009922216646373272, 4.23072697230964e-06, 0.050183091312646866, 0.017857888713479042, 0.015102078206837177, -0.0017318302998319268, -0.0002783593663480133, 0.0022557717747986317, 0.0033619659952819347, 0.005568488966673613, 0.007997443899512291, -0.0002774826716631651, -3.4787823096849024e-05, 0.007261979393661022, 0.009836573153734207, 0.0009853661758825183, 0.006695288233458996, 0.014742352068424225, -0.0006331157637760043, 0.004252662416547537, 0.06457488983869553, 0.0019530798308551311, 0.01729971170425415, 0.015998074784874916, 0.006107705645263195, -5.587430132436566e-05, -0.0009147523087449372, 0.007707631681114435, 0.022224346175789833, 0.01604168862104416, 0.03157636150717735, 0.017258863896131516, 0.006260642781853676, 0.007516462355852127, 0.010802537202835083, 0.031007640063762665, 0.09584341943264008, 0.009509540162980556, 0.0009191533899866045, -0.00024405498697888106, 0.011885613203048706, 0.008089860901236534, 0.008023270405828953, 0.02069263532757759, 0.0002845869748853147, 0.006838386412709951, 0.0024031498469412327, 0.0040921554900705814, 0.007860751822590828, 0.0011461187386885285, 0.01740986667573452, -0.00047942952369339764, 0.01534232310950756, 0.0007986633572727442, 0.03493853285908699, -0.0019500002963468432, 0.012763766571879387, 0.009182657115161419, 0.006579251028597355, 0.00944425817579031, 0.00428002281114459, 0.005717952735722065, -7.864183862693608e-05, 0.016729887574911118, 0.026037197560071945, 0.00019667741435114294, 0.046052563935518265, 0.0036876683589071035, 0.001627114019356668, 0.008282256312668324, 0.023070676252245903, 0.003156078979372978, 0.002297415630891919, 0.02140856347978115, 0.0015599734615534544, 0.010498961433768272, 0.0029744370840489864, 0.008360076695680618, 0.0016901340568438172, 0.017132941633462906, 0.0011381350923329592, 0.0009793565841391683, 0.04628538340330124, 0.0034804795868694782, -0.0003169382980559021, 0.02111312374472618, 0.0007770442753098905, 0.007124649826437235, 0.00434808200225234, 0.018775004893541336, 0.014293174259364605, 0.00988796353340149, 0.011032072827219963, 0.01303059235215187, 0.014467005617916584, 0.0056127929128706455, 0.007155642844736576, 0.00025262858252972364, 0.05209809169173241, 0.002476673573255539, 0.0005669008824042976, 0.001385134644806385, 0.05602778121829033, 0.0006957757868804038, 0.0023431237787008286, -0.0009687661658972502, 0.005857959855347872, 0.0016249062027782202, 0.01794550195336342, -0.00022038441966287792, 0.01451313029974699, 0.00762547180056572, 0.016214586794376373, 0.0072675044648349285, 2.6557692763162777e-05, 0.013991225510835648, -0.0034993139561265707, 0.013235533609986305, 0.006639132741838694, 0.01617102138698101, 0.0002666126238182187, 0.013416486792266369, 0.0037731779739260674, -0.00035248836502432823, 0.0391673669219017, 0.0018190165283158422, -0.0002765157842077315, 0.002705189399421215, 0.003202806692570448, 0.025109807029366493, 0.025955142453312874, -0.00035176309756934643, -0.00028584914980456233, 0.0029788792598992586, 0.038154833018779755, 0.008329969830811024, 0.006024450995028019, -0.001035215798765421, -0.0016703509027138352, 0.0001240074197994545, 0.008008813485503197, 0.0016339599387720227, -0.0008199144504033029, 0.0004851391422562301, 0.024745255708694458, 0.04291169345378876, 0.006087359972298145, 0.016024282202124596, 0.0043950267136096954, 0.005410558544099331, 0.02657986246049404, 0.022789862006902695, 0.01751869171857834, 0.011775704100728035, 0.011085503734648228, 0.04618978872895241, 0.006307528354227543, 0.018534639850258827, 0.011719461530447006, 0.00723660085350275, -5.236438664724119e-05, -0.0026221955195069313, 0.011770595796406269, 0.00011846590496134013, 0.018520843237638474, 0.01783173345029354, 0.02532552182674408, 0.00014238705625757575, 0.032139793038368225, 0.027218317613005638, 0.015046142041683197, 0.00986782368272543, 0.0007379528251476586, 2.2292528228717856e-05, 0.017279094085097313, 0.024948105216026306, 0.0008180463337339461, 0.0025113229639828205, 0.009047937579452991, 0.005274120252579451, 0.034090470522642136, 0.0021072099916636944, 0.02076154761016369, 0.004301464185118675, -0.0013895045267418027, 0.01836264505982399, 0.005003929138183594, 0.00032422534422948956, 0.019768686965107918, 0.012776249088346958, -0.00011172519589308649, 0.007527653593569994, 0.005697774235159159, 0.02135450951755047, 0.004218908026814461, 0.012318519875407219, 0.010521278716623783, -0.0002847074356395751, -0.00017334350559394807, 0.006682277657091618, 0.0014076073421165347, 0.00017279855092056096, -0.001902151620015502, 0.011426699347794056, 0.0036998672876507044, -0.0006035760743543506, -0.00034871057141572237, 0.04480552300810814, 0.03419316187500954, 0.002674286486580968, 0.01360637042671442, 0.025521308183670044, -0.000501935719512403, 0.012311086058616638, 0.025454871356487274, 0.023867633193731308, 0.010124368593096733, 0.014770288951694965, 0.011703312397003174, 0.018734661862254143, -0.0016835463466122746, 0.012590065598487854, 0.06381529569625854, 0.030056077986955643, 0.005565324332565069, 0.008455799892544746, 0.007009641733020544, 0.027615264058113098, 0.032010842114686966, -8.197018905775622e-05, -0.0019382024183869362, 0.016235243529081345, 0.0037270274478942156, 0.0239353459328413, 0.03510116785764694, 0.011515314690768719, 0.02186838909983635, 0.0137868607416749, 0.0015610187547281384, 0.002662314334884286, -0.0007144229602999985, 0.0032963298726826906, 0.01695917174220085, 0.0008063394343480468, 0.009143613278865814, 0.00241667777299881, 0.047831106930971146, 0.0114130899310112, 0.0101874815300107, 0.031573232263326645, 0.016096917912364006, 0.04445220157504082, 0.012263559736311436, 0.02483227476477623, 0.004875322338193655, -0.000849479460157454, 0.0034631998278200626, 0.007297449745237827, 0.04155043885111809, 0.007736473344266415, 0.04283205419778824, 0.004309392999857664, 0.005648680031299591, 0.004280910827219486, 0.010913526639342308, 0.0032872995361685753, -0.00043798278784379363, 0.00928726326674223, 0.01132567785680294, 0.0032713678665459156, 0.06445357948541641, 0.011536545120179653, 0.014642193913459778, 0.004885911010205746, 0.008912228979170322, -0.0004925343673676252, 0.04847532510757446, 0.009906350634992123, 0.01321506593376398, -0.0005872663459740579, -0.000791497528553009, 0.016337743028998375, 0.00019082445942331105, 0.02063833922147751, 0.03053892031311989, 0.01426939107477665, 0.0012055548140779138, 0.015035685151815414, 0.000523455673828721, 0.014665086753666401, 0.031220776960253716, 0.000627309491392225, 0.006610371172428131, 0.03395028039813042, 0.006694672163575888, 0.002304500201717019, 0.003820928279310465, -0.0006258953362703323, 0.029035061597824097, 0.01345119159668684, 0.037567563354969025, 0.026557255536317825, 0.024982713162899017, 0.023733695968985558, 0.027353249490261078, 0.0017567438771948218, -4.460068794287508e-06, 0.0077728950418531895, -6.470399239333346e-05, 0.007699974812567234, -0.0008094016811810434, 1.2060208973707631e-06, 0.02108740620315075, 0.027609869837760925, 0.009774546138942242, -0.0005554984672926366, 0.029664721339941025, 0.0231760386377573, 0.01632528007030487, -0.0004900216008536518, -0.0001951831072801724, 0.008381697349250317, 0.001112951198592782, -0.0018127671210095286, -6.176448368933052e-05, 0.007683711592108011, 0.026244251057505608, 0.017933178693056107, 0.02015014924108982, 0.01776650920510292, -0.0004002559871878475, 0.06674911826848984, 0.005986387841403484, 0.0011888027656823397, 0.003985864110291004, 0.08126924932003021, 0.005070192273706198, 0.0014111510245129466, 0.009805927984416485, 0.03486301749944687, 0.0057882568798959255, 0.004842896014451981, 0.010197089985013008, 0.001257715979591012, -0.00046763429418206215, 0.007631869986653328, 0.01047288253903389, 0.01450746227055788, 0.022788111120462418, 0.008577805943787098, 0.02888481691479683, 0.020940611138939857, 0.017478084191679955, 0.007504493463784456, 0.014791415072977543, 0.06052467226982117, 0.0026688252110034227, 0.009142877534031868, 0.03653411567211151, 0.04029780626296997, 0.028952641412615776, 0.0014203028986230493, 0.005545150488615036, 7.398772868327796e-05, 0.008574182167649269, 0.008813639171421528, 0.00719451904296875, 0.034817371517419815, 0.014035506173968315, -0.00016023490752559155, 0.00033324991818517447, -0.002203692914918065, 0.05650933086872101, 0.0022578660864382982, 0.026409929618239403, 0.013736076653003693, 0.0037781933788210154, 0.016901882365345955, 0.03329048305749893, 0.02015051245689392, 0.007517807651311159, 0.05060442537069321, 0.005271940026432276, 0.03281576931476593, 0.018936045467853546, 0.016680758446455002, -0.0006986645166762173, 0.002136992057785392, 0.0008549674530513585, -8.444856939604506e-05, 0.0022847119253128767, 0.005478153470903635, 0.04324061796069145, -0.0011856313794851303, 0.008282545953989029, 0.03467852249741554, 0.010002342984080315, 0.0032995908986777067, 0.011411244049668312, 0.005306696519255638, 0.010402855463325977, 0.0034249210730195045, -0.0004986791755072773, 0.01683208718895912, 0.061146825551986694, 0.013174526393413544, 0.011657046154141426, 0.0044574616476893425, 0.0014269879320636392, 0.030375931411981583, 0.020807066932320595, -0.0001554540649522096, 0.0001693507219897583, 0.027188634499907494, 0.008152357302606106, 0.02334904670715332, 0.06206633150577545, 0.01302790641784668, 0.007753799669444561, 0.008212661370635033, 0.052700288593769073, 0.01990691013634205, 0.02511434257030487, 0.013199042528867722, 0.02312929928302765, 0.011783343739807606, 0.005142865236848593, -0.0010619938839226961, 0.01352743525058031, 0.015623602084815502, 0.01639578863978386, 0.04153704270720482, -0.002907562768086791, 0.013278404250741005, -0.00022614320914726704, 0.01883288286626339, 0.003260208060964942, -0.0003349999897181988, 0.0028397087007761, -0.0003564715152606368, 0.06444496661424637, 0.00303694698959589, -0.002492837607860565, 0.022794106975197792, 0.03122105821967125, 0.0098262345418334, 0.014438716694712639, 0.0004082602681592107, 0.009595942683517933, 0.08319836854934692, -0.0023166059982031584, 0.02197006344795227, 0.02396627515554428, 0.00482142623513937, -0.000489046738948673, -0.0011314064031466842, 0.003345560748130083, 0.006534198299050331, -0.00048102979781106114, 0.0005281078047119081, 0.0013499781489372253, 0.014285438694059849, 0.05881436914205551, -0.0031104842200875282, -0.0005450336611829698, -0.0001930173166329041, 0.024443652480840683, 0.022938912734389305, 0.008258585818111897, 0.023614417761564255, 0.056851863861083984, 0.0029141497798264027, 0.004484889563173056, 0.058695584535598755, 0.014883395284414291, 0.05395699292421341, 0.0232832208275795, 0.03366677463054657, 0.028653264045715332, 0.006797504611313343, 0.013925090432167053, 0.00973874144256115, 0.004695164039731026, 0.030488204210996628, 0.02305087447166443, 0.03667544946074486, 0.025855593383312225, 0.028103958815336227, 0.03769403696060181, 0.0038933248724788427, 0.0020680385641753674, 0.008072822354733944, 0.00018582948541734368, 0.02797071263194084, -0.000600811094045639, 0.004094025120139122, -0.0006793438806198537, 0.0039648497477173805, -0.0019173228647559881, 0.002975909737870097, 0.06959936767816544, 0.05392475053668022, -0.001360961003229022, 0.015144872479140759, 0.015491703525185585, 0.008129920810461044, -0.0007418753230012953, 0.011796149425208569, 0.0012968422379344702, 0.004759362433105707, 0.00819363072514534, 0.0075450073927640915, -0.001141620334237814, 0.001026047277264297, 0.02229500189423561, -0.0006744496640749276, 0.027121974155306816, 0.005100259557366371, -0.0024517211131751537, 0.004859417676925659, 0.010634131729602814, 0.00566381448879838, -0.0015501404413953424, 0.00045371564920060337, -0.0018767378060147166, 0.043087560683488846, 0.016764745116233826, 0.00798715464770794, 0.028167907148599625, 0.008187453262507915, -0.0003793660434894264, 0.044323816895484924, 0.017200637608766556, 0.011420384049415588, 0.03659005090594292, 0.010372787714004517, 0.037355296313762665, 0.011013827286660671, -3.959006062359549e-05, 0.0023295267019420862, 0.006526140030473471, 0.012227091938257217, 0.007050647400319576, 0.01952880062162876, -0.002960149198770523, 0.0004363425832707435, 0.04645055532455444, 0.010495590046048164, 0.005440077278763056, 0.019868072122335434, 0.014346370473504066, 0.01954670250415802, 0.027218902483582497, 0.004922104068100452, 0.01871807500720024, 0.003302599536255002, -4.5423381379805505e-05, 0.005657218396663666, 0.0049027386121451855, -0.000803834933321923, 0.01376460399478674, 0.027958659455180168, 0.01930459588766098, 0.03748965263366699, -0.0007588139269500971, 0.013052933849394321, 0.0044862753711640835, 0.023028964176774025, 0.0597107969224453, 0.007813986390829086, 0.01608452759683132, 0.015599371865391731, 0.005775160156190395, 0.024645939469337463, 0.008186913095414639, -0.0019714238587766886, 0.004994100891053677, 0.007778391242027283, 0.020757416263222694, 0.0020084052812308073, 0.022085217759013176, 0.028537258505821228, 0.06284501403570175, 0.009951543062925339, -0.00021843861031811684, 0.0032479010988026857, 0.014566585421562195, -0.0009034850518219173, 0.002857198938727379, -0.001280846307054162, 0.0029464515391737223, 0.0005720211775042117, 0.020801478996872902, 0.04335799068212509, -2.2458643798017874e-05, 0.04361193627119064, 0.029197562485933304, 0.0016674951184540987, 0.040266044437885284, 0.031597770750522614, -0.00025364349130541086, 0.01200280524790287, 0.026189351454377174, 0.046349044889211655, 0.007833218201994896, 0.023120159283280373, -2.9874543542973697e-05, 0.017170265316963196, -2.185131234000437e-05, 0.027623912319540977, 0.006060573738068342, 0.001950116129592061, 0.016493115574121475, 0.00434122933074832, 0.011897140182554722, 0.036503832787275314, 0.009120242670178413, -0.00023352036077994853, 0.00029801481286995113, 0.01613289676606655, 0.04020509496331215, -0.0037466646172106266, 0.019109128043055534, 0.002688090316951275, 0.021259091794490814, 0.07280233502388, 0.005106603726744652, 0.011899333447217941, -0.002408516127616167, -0.001765536260791123, 0.03472598269581795, 0.026428082957863808, -0.0004478100745473057, 0.005089099984616041, 0.015104974620044231, 0.046128273010253906, 0.007438491564244032, 0.013790598139166832, 0.01825135014951229, 0.0022132890298962593, 0.04022907093167305, 0.011186755262315273, -0.0014549014158546925, -0.0001340770540991798, 0.007526202127337456, 0.004492867272347212, 0.03461625799536705, 0.023896029219031334, 0.02876998297870159, 0.007859584875404835, -0.003117704764008522, 0.02766144648194313, 0.022471316158771515, -0.0004330434603616595, 0.0011109538609161973, 0.018825160339474678, 6.009955995978089e-06, -0.0004731219378300011, 0.009260511957108974, 0.02677556686103344, -0.0020888305734843016, 0.00022284267470240593, 0.009116265922784805, 0.012312876991927624, 0.02934696525335312, 0.0019158178474754095, 0.004454309586435556, 0.05754782631993294, 0.04720135033130646, -0.0013271732022985816, 0.01962675340473652, 0.0015378098469227552, 0.0425441674888134, 0.0038839788176119328, -0.0010089724091812968, 0.014697418548166752, 0.04295084998011589, 0.016668163239955902, 0.0007089739083312452, 0.058717552572488785, -0.0006592767895199358, 0.019072918221354485, -0.0009933101246133447, 0.015968959778547287, 0.0063044289126992226, 6.532605038955808e-05, 0.00021970745001453906, 0.008053930476307869, 0.01022275723516941, 0.0321216844022274, 0.0385633185505867, 0.001027436344884336, 0.012121245265007019, 0.04391022026538849, 0.018931154161691666, 0.0026104163844138384, -0.0028879314195364714, 0.02976936474442482, 0.02440609037876129, 0.0021780142560601234, 0.00693402299657464, 0.023158807307481766, 0.006623926572501659, 3.413274316699244e-05, 0.01841198280453682, 0.019152414053678513, 0.009245762601494789, 0.0008742352947592735, 0.02451086975634098, 0.008641781285405159, -0.0015068340580910444, 0.004795261193066835, 0.0009001700673252344, 0.06300686299800873, -1.31320348373265e-05, 0.03218536078929901, 0.011331950314342976, 0.0015028223861008883, -0.0002818189677782357, 0.026538832113146782, 0.01755792275071144, 0.021516837179660797, 0.008182003162801266, 0.009427977725863457, 0.0052264598198235035, 0.006877044215798378, 0.0026474609039723873, 0.008251402527093887, 0.018170541152358055, 0.001267297426238656, 0.0072768512181937695, 0.02492351271212101, 0.03121672198176384, 0.004170296713709831, 0.003030329244211316, 0.006047500763088465, 0.003859145101159811, -0.00037516074371524155, 0.014233285561203957, 0.04181912913918495, 0.0007686233730055392, 0.02101515419781208, -1.1119675036752596e-05, 0.015573815442621708, 0.014460358768701553, 0.07984011620283127, 0.017621060833334923, 0.0007955272449180484, 0.0065329247154295444, 0.007392358034849167, 0.010422981344163418, 0.018081653863191605, -0.0005418147193267941, 0.0012269227299839258, 0.013718069531023502, 0.011598024517297745, 0.03749056160449982, -0.0013718684203922749, 0.025191880762577057, 0.005538378842175007, 0.016764914616942406, 0.005735364742577076, 0.008834091946482658, -0.00018387727322988212, 0.0018086630152538419, 0.007844891399145126, 0.0049285609275102615, -0.0006285870331339538, 0.048329927027225494, 0.006088700611144304, 0.011403694748878479, -7.163793634390458e-05, 0.006599985528737307, 0.009834486991167068, 0.013168195262551308, 0.007484052795916796, 0.002381187630817294, 0.001691643614321947, 0.002056242898106575, 0.002360675949603319, 0.014207967557013035, 0.014303226955235004, 0.027023786678910255, 0.018171051517128944, -9.964712080545723e-05, 0.0524042509496212, -0.0006786778685636818, 0.028368502855300903, 0.004832637030631304, 0.01735803298652172, -0.002060855505988002, -0.0009157396270893514, 0.047704752534627914, 0.007080061361193657, 0.042513053864240646, 0.022403208538889885, 0.05060441046953201, 0.006075458135455847, 0.04131811112165451, 0.004801488947123289, 3.816586468019523e-05, 0.035906363278627396, -0.006542615592479706, 0.0003749958414118737, 0.028780192136764526, 0.012058439664542675, 0.012527571991086006, -1.6383545471398975e-06, -0.0003915724519174546, 0.006579370703548193, 7.197845116024837e-05, -0.00120699149556458, 0.0031478472519665956, 0.0005855707568116486, -0.000118186668260023, 0.020696580410003662, 0.005270083900541067, -0.0006976391887292266, -0.0003655905893538147, 0.056816793978214264, 0.0041474211029708385, 0.028009623289108276, -0.001372144091874361, 0.002832263009622693, 0.0007327976636588573, 0.004768469836562872, 0.01585974358022213, 0.0019454285502433777, 0.015529544092714787, 0.0032308499794453382, 0.02222786657512188, 0.0053655486553907394, 0.0068456195294857025, 0.0183909572660923, 0.006411841604858637, 0.024387549608945847, 0.027928346768021584, -0.0029345345683395863, 0.013375013135373592, 0.024858780205249786, 0.012266547419130802, 0.0007083727978169918, 0.00995693076401949, 0.022629324346780777, 0.0017531074117869139, 0.01413488108664751, 0.03248842433094978, 0.005420364905148745, 0.0051485151052474976, 0.004021624568849802, -0.0012140758335590363, 0.004508820362389088, 0.010782125405967236, 0.00935902539640665, 0.002787684788927436, -0.0008327580871991813, 0.005583908408880234, 0.004597317893058062, 0.0003397531691007316, 0.03613686561584473, 0.023746946826577187, 0.001902495976537466, 6.782870332244784e-05, -0.00012794681242667139, 0.0057106902822852135, 0.005223900079727173, 0.015336981043219566, 0.0015653088921681046, 0.043767042458057404, 0.019584285095334053, 0.0028163695242255926, 0.001910476479679346, -0.0013499580090865493, 0.005789277143776417, 0.002208499936386943, 0.02701662667095661, 0.042089615017175674, 0.007245705462992191, 0.028582731261849403, 0.0010366709902882576, 0.04399878904223442, 0.006895114667713642, 0.0020884370896965265, 0.014318679459393024, 0.004389921203255653, 0.003742469009011984, 0.002163494471460581, 0.008187870495021343, 0.0004146692808717489, 0.05164217948913574, 0.004874769132584333, 0.004982739221304655, 0.011324219405651093, 0.006277077831327915, 0.0064493147656321526, -0.002675627125427127, 0.02715574949979782, -0.0004928481648676097, -0.0012167857494205236, 0.001988854957744479, -0.0008597202249802649, -0.002476132707670331, -3.33278403559234e-05, -0.0040675136260688305, -0.0009547932422719896, 0.026863478124141693, 0.000422390439780429, 0.02115733176469803, 0.02851337380707264, -0.00047122142859734595, -0.0006776860682293773, 9.182404755847529e-05, 0.015125728212296963, 0.02227872610092163, -0.0003971651312895119, -0.0001769487716956064, 0.031020110473036766, -0.0005228358786553144, 0.025131015107035637, 0.05917705222964287, 0.017457546666264534, 0.007846711203455925, -0.00038978602970018983, 0.00993414781987667, 0.0007243833970278502, -0.0006435340037569404, 0.0222078375518322, 0.00822619628161192, -8.584517490817234e-05, 0.010859494097530842, 0.010868273675441742, 0.006638119928538799, 0.03824490308761597, -0.0008838825742714107, 0.008986997418105602, 0.01075047254562378, 0.00754248583689332, 0.017478102818131447, 0.03466975688934326], [0.004514056723564863, -1.6060826055763755e-06, 0.005238187499344349, 0.006709568202495575, 0.008035778999328613, 0.004427633248269558, 0.059378720819950104, -0.00016472618153784424, -0.0034456599969416857, -0.00010735896648839116, 0.007064156234264374, 0.0036376933567225933, 0.01493041217327118, 0.014231820590794086, 0.010011984035372734, 0.006454010959714651, 0.0306344423443079, 0.03278138116002083, -8.628435898572206e-05, 0.0018571368418633938, 0.007494980003684759, -6.180380296427757e-05, -9.382396092405543e-05, 0.001281273434869945, 0.015609604306519032, 0.009565925225615501, 0.015727564692497253, 0.005539730191230774, -0.0003297828952781856, 0.006872162688523531, 2.5493411158095114e-05, 0.004243273288011551, 0.00686817429959774, 0.0025051883421838284, 0.05819918215274811, 0.013518912717700005, 0.00044718311983160675, 0.0014622462913393974, -0.00010585617565084249, -0.0005265428335405886, 0.00013988396676722914, 0.009147755801677704, 0.005422482267022133, -2.015932659560349e-05, 0.007642736192792654, 0.01462871115654707, 0.001063091796822846, -0.00021771990577690303, 0.016762670129537582, 0.0003807606699410826, 0.00956119503825903, 0.0203825905919075, 0.0007763547473587096, 0.024616539478302002, 0.0007697465480305254, 3.9292472138185985e-06, -0.00019162216631229967, 0.01017962209880352, 0.004341091029345989, 0.04935858026146889, 0.01283011119812727, 0.05962507426738739, 0.0033557212445884943, 0.014756695367395878, 0.05630972608923912, 0.009589645080268383, 0.00846545584499836, -0.00028029459645040333, 7.216068479465321e-05, 0.030120564624667168, 0.009135297499597073, 0.0002138474228559062, -0.001074136234819889, 0.0016968087293207645, 6.172880966914818e-05, 0.04982202872633934, 0.007214785553514957, 0.0015581338666379452, 0.004705715924501419, 0.002388849388808012, 0.0006224957178346813, 0.012937131337821484, 0.015044397674500942, 0.02583123929798603, 0.007505497429519892, 0.004242267459630966, 0.0007195924990810454, 0.0226896945387125, 0.010242809541523457, 0.003830494126304984, -0.001948785618878901, -7.771728269290179e-05, 0.0047907037660479546, 0.030841385945677757, 0.02713300846517086, 0.017527755349874496, 0.005834395997226238, 0.008231086656451225, 0.016886835917830467, 0.007325344253331423, 0.008017542771995068, 0.029981505125761032, 0.008868436329066753, 0.000663704180624336, 0.029826700687408447, 0.029262712225317955, 0.004649519454687834, 0.008441818878054619, 0.02190297842025757, -0.00040866367635317147, 0.0004702627193182707, 0.017590738832950592, -0.0001368197990814224, 0.016774946823716164, 0.030047282576560974, 0.01200842671096325, -0.0014731459086760879, 0.025478946045041084, 0.03029136173427105, 0.020591028034687042, 0.013262446038424969, 0.0681534856557846, 0.009451092220842838, 0.002020098501816392, 0.012065915390849113, 0.008241490460932255, 0.009907460771501064, 0.015439964830875397, 0.003893531858921051, 0.0011319700861349702, 0.024142032489180565, 0.002498128218576312, 0.01660754531621933, 0.00763992965221405, 0.04873937368392944, 0.03271843492984772, 0.008374074473977089, 0.03542330861091614, -0.00038917045458219945, 0.004603540059179068, -0.0025120535865426064, 0.004097564611583948, 0.0017066193977370858, -0.00014517770614475012, 0.03177379071712494, 0.0036582541652023792, 0.01261066272854805, 0.0031580484937876463, -0.00027129772934131324, 0.009845482185482979, 0.00015110136882867664, 0.02747230790555477, 0.006580343935638666, 7.066943362588063e-05, 0.004495205823332071, 0.03993182256817818, 0.03444762900471687, 0.0015061600133776665, 0.025647124275565147, 0.00024215449229814112, 0.025976521894335747, 0.01196934562176466, 0.03656526654958725, 0.015201883390545845, 0.04088761284947395, -0.0003676781489048153, 0.0006691848393529654, 0.0038517822977155447, 0.012386188842356205, 0.00770287262275815, 0.0014420030638575554, -0.00012183882790850475, -0.00074876903090626, 0.00804593414068222, 0.013502036221325397, 0.031217047944664955, 0.014050602912902832, 0.028494693338871002, 0.006677670869976282, 0.003197292797267437, 0.01876167580485344, 0.0715208351612091, 0.0005217957077547908, 0.008320149965584278, 0.0016651590121909976, -0.00014100900443736464, -7.845854997867718e-05, 0.014705355279147625, 0.003779955208301544, -6.0499674873426557e-05, 0.01716756634414196, 0.006127664819359779, 0.0012594801373779774, 0.02414892241358757, -0.00018524640472605824, 0.017378011718392372, 0.002417877782136202, 0.003671914804726839, 0.007925990968942642, -0.0016697802348062396, 0.008079496212303638, 0.005531340837478638, 0.003351975465193391, 0.033081211149692535, 0.0047623575665056705, 0.00048655614955350757, 0.02053867094218731, 0.0013058001641184092, 0.0003902213938999921, 0.002372350310906768, 0.006160896737128496, -0.001666911644861102, 0.0005375923938117921, 0.0013293004594743252, 0.03822822496294975, 0.01604573056101799, 0.00040441969758830965, -0.00031271367333829403, 0.0006034288671799004, 0.00991373136639595, 0.012034333311021328, 0.0038805408403277397, -0.0005237890291027725, 0.0032160202972590923, 0.01881346106529236, 0.004384987987577915, 0.00016080703062471002, 0.00037250423338264227, -1.2617230822797865e-05, 0.0015842351131141186, 0.015559143386781216, 0.012511083856225014, 0.009791668504476547, 0.009205580689013004, 0.0562782883644104, 0.006957665551453829, 0.018275205045938492, 0.014158807694911957, 0.015073387883603573, 0.008084936067461967, 0.10477159172296524, 0.005346527323126793, 0.03119463101029396, -0.0007685011951252818, -0.0008799657225608826, -0.0006117139128036797, 0.0013096157927066088, 0.013756826519966125, -0.0006119355675764382, 0.018316013738512993, 0.037655141204595566, 0.006882834248244762, 0.001236401847563684, 0.021965570747852325, 0.03912931680679321, 0.04488012194633484, 0.0034909071400761604, 0.002980631310492754, -0.00030767530552111566, 0.057178009301424026, -4.3992400605930015e-05, -0.0001376263244310394, 0.0073994859121739864, 0.012454122304916382, 0.011194173246622086, 0.021450398489832878, 0.0019138838397338986, 0.005053743254393339, 0.03572577238082886, 0.002501311246305704, -0.00010658732935553417, -0.0005578161217272282, -0.0004656801465898752, -0.00010018475586548448, 0.0069663263857364655, 0.008704375475645065, 0.0035095203202217817, 0.010004129260778427, 0.0009232328739017248, -0.0001792699476936832, 0.01776878535747528, 0.007514657452702522, 0.001907126628793776, 0.0008339399937540293, -0.0001480788050685078, 0.0048898872919380665, 0.01958025060594082, -0.0004823884810321033, 0.021739749237895012, 0.007388763595372438, -0.0039170850068330765, -1.1163808267156128e-05, 0.016822490841150284, 0.012017413042485714, 0.0014616554835811257, 0.001061556744389236, 0.05123740807175636, 0.0007029579137451947, 0.020274044945836067, 0.008524947799742222, 9.734672858030535e-06, 0.026899054646492004, 0.009029842913150787, 0.005551743786782026, 0.004092165734618902, -0.0015401915879920125, 0.014205670915544033, 0.04231173172593117, 0.02009359933435917, 0.009503701701760292, 0.04216371104121208, 0.01673400215804577, 0.030417699366807938, 0.008398101665079594, 0.00766298733651638, -0.0009322045370936394, 0.022585052996873856, 0.02070442959666252, 0.015263139270246029, 0.03582603484392166, 0.006050509866327047, 0.05346167832612991, 0.022139711305499077, 0.024656912311911583, 0.011824711225926876, 0.01630747877061367, -4.298564454074949e-05, 0.01872238889336586, 0.011859716847538948, -0.0013173118932172656, 0.00030131704988889396, 0.01284263376146555, 0.010689954273402691, 0.0016834979178383946, 0.049693264067173004, 0.0003370252379681915, 0.010683800093829632, 0.004172856919467449, 0.039615873247385025, -9.127750672632828e-05, -0.0008627288625575602, 0.013777055777609348, 0.0104423388838768, 0.0069632865488529205, 0.011020157486200333, 0.02432287111878395, 0.008574871346354485, 0.004617089405655861, 0.004048705101013184, 0.0454508475959301, 0.002815064275637269, 0.008797135204076767, 0.013775781728327274, 0.012374439276754856, 0.0005609064246527851, -0.00018458654813002795, 0.012854202650487423, 0.014190375804901123, 0.018233520910143852, 0.035656142979860306, 0.001064408104866743, 0.04800895228981972, 0.0058321524411439896, 0.007826381362974644, -0.004647510126233101, 0.0034807731863111258, 0.016267728060483932, 0.007138494867831469, 0.02949267439544201, 0.014314675703644753, 0.002118221018463373, 0.0021771348547190428, 0.03996754437685013, 0.0020926669239997864, 0.010727913118898869, 0.01408845093101263, 0.0014281602343544364, 0.002521178685128689, 0.010991372168064117, 0.004018113482743502, 0.003822114784270525, 0.0015173876890912652, -1.6653093553031795e-05, 0.03350057825446129, 0.051297836005687714, 0.0025490818079560995, 0.0022305946331471205, 0.04406198114156723, 0.015565465204417706, 0.004660933278501034, 0.00962739810347557, 0.005591104272753, 0.019603794440627098, 0.0009276623604819179, 0.00033282884396612644, 0.0010351386154070497, 0.00010245672456221655, 0.012801030650734901, 0.004060822073370218, 0.023280050605535507, 0.0032641347497701645, 0.025615496560931206, 0.012694189324975014, 0.004626609850674868, 0.00014154832751955837, -0.00021277519408613443, 0.004396065603941679, 0.0001934055908350274, -0.00040583431837148964, 0.014854902401566505, 0.011186775751411915, 0.0370633602142334, 0.020022835582494736, 0.058715108782052994, 0.010862113907933235, -8.572459773859009e-05, 0.054388679563999176, 0.024098271504044533, 0.0026815535966306925, 0.018426308408379555, 0.06721706688404083, 0.010159597732126713, 0.00032572465715929866, 0.022524265572428703, 0.003970333840698004, 0.005139564163982868, 0.011774209327995777, 0.0062948656268417835, 0.0024327647406607866, 0.00046188855776563287, 0.0038010673597455025, 0.004189237952232361, 0.013126167468726635, 0.01527711283415556, 0.004266002681106329, 0.011356843635439873, 0.0005176622071303427, 0.003405494149774313, 0.02172970026731491, 0.034023936837911606, 0.06096596643328667, 0.00455697625875473, 0.009982824325561523, -0.0004430706612765789, 0.008588840253651142, -0.0001367119693895802, 4.8020428948802873e-05, 0.01022800151258707, 0.003621225943788886, 0.04521448537707329, 0.006587768439203501, 0.02105473354458809, 0.01003974862396717, 0.003401275957003236, -0.00012663312372751534, 0.0020048145670443773, 0.0006207863334566355, 0.007925882935523987, 0.0009929201332852244, 0.024172576144337654, 0.010544571094214916, 0.0031218130607157946, 0.001819699420593679, 0.032062992453575134, 0.022820284590125084, 0.04335399344563484, 0.0233148206025362, 0.04753844439983368, 0.020245563238859177, 0.014091944321990013, 0.01120065338909626, 0.005055515095591545, 0.006562152411788702, 0.004253756254911423, -0.0003651789447758347, -0.0015672273002564907, 0.005773594137281179, 0.011482586152851582, 0.005831690039485693, 0.0172547809779644, 0.02305680140852928, 0.0010348769137635827, 0.0001995997881749645, -0.0011837126221507788, 0.00037089272518642247, 0.04660741984844208, -5.456069629872218e-05, 0.025499949231743813, 0.006345951464027166, 0.02700941637158394, 0.012312380596995354, 0.023630216717720032, 0.0003589433035813272, 0.009994318708777428, 0.026631595566868782, 0.013728980906307697, -0.0005468124290928245, 0.00922782439738512, 0.017160961404442787, -6.096983634051867e-05, 0.005375425796955824, 0.0023919905070215464, 0.01431385986506939, 0.00355343334376812, 0.01589869149029255, -4.1817573219304904e-05, 0.007585075683891773, 0.02245146967470646, 0.0018513778923079371, 0.0004151453322265297, 0.008411631919443607, 0.03749740868806839, 0.0018977000145241618, 0.021538186818361282, 0.021350765600800514, 0.0016085535753518343, 0.018137164413928986, -0.0031230717431753874, -5.031281034462154e-05, -7.973540778039023e-05, 0.011429610662162304, 0.0026116922963410616, -0.00031839858274906874, 0.03896397352218628, -0.0011339331977069378, 0.023242162540555, 0.03249308094382286, 0.007679020520299673, -0.0006311131874099374, 0.041810791939496994, 0.050543516874313354, 0.0035292941611260176, 0.0006457349518314004, 0.015341607853770256, 0.06355016678571701, 0.02299952507019043, 0.03413281589746475, 0.01630503311753273, -0.0002776526380330324, -0.0005149884382262826, -0.0014175042742863297, 0.0037780029233545065, 0.01952250488102436, -0.0002187825011787936, -0.001856570248492062, 0.017785783857107162, 0.0025085366796702147, 0.051801037043333054, -0.0022216513752937317, -0.0004061594372615218, 0.0009154056315310299, -0.0015145917423069477, 0.037230588495731354, 0.021395474672317505, 0.0027326291892677546, 0.03535667061805725, 0.00476690661162138, -0.0001362000039080158, 0.02640490233898163, 0.006413695868104696, 0.0031345137394964695, 0.01315904688090086, 0.0333077609539032, 0.027666548267006874, 0.0067947981879115105, 0.010757251642644405, 0.054955970495939255, 0.010177099145948887, 0.023035157471895218, 0.021595966070890427, 0.036281976848840714, 0.018533457070589066, 0.06977022439241409, 0.007933114655315876, 0.015617145225405693, 0.01648589037358761, 0.005264528561383486, 0.0020506817381829023, 0.0269120205193758, -6.6433431129553355e-06, 0.0025326537434011698, -0.0003073738480452448, 0.017992772161960602, 0.006005500443279743, 0.00019479634647723287, 0.04841713234782219, 0.0399613194167614, -0.001409995835274458, 0.0036383592523634434, 0.009291698224842548, -0.001365829724818468, -0.001208264846354723, 0.011173716746270657, 0.016772808507084846, 0.0021950877271592617, 0.007888191379606724, 0.010581091977655888, -0.0023563504219055176, 0.004541581962257624, 0.01641148328781128, -0.0010269393678754568, 0.03598141670227051, -0.0012163342908024788, -0.001397903892211616, -0.0011572125367820263, 0.017149465158581734, 0.012300192378461361, -0.0004708527703769505, -0.0004588116134982556, -0.0013274077791720629, 0.02518603391945362, -0.003736803773790598, 0.011966048739850521, 0.04177481308579445, 0.006302807945758104, 0.0037576910108327866, 0.01621617004275322, 0.022754771634936333, 0.02334926463663578, 0.02037438564002514, 0.07078557461500168, 0.010412752628326416, 0.010648779571056366, 0.009641456417739391, 0.0016900397604331374, 0.001108485390432179, 0.018797606229782104, 0.0020945086143910885, 0.010559101589024067, 0.03966734558343887, 7.966980047058314e-05, 0.024599535390734673, 0.0020717589650303125, 0.004046034067869186, 0.06070880964398384, 0.009661020711064339, 0.0061000632122159, 0.016204848885536194, 0.0007102505187503994, 0.006446116603910923, 0.03490302711725235, 0.0015859694685786963, 0.0024399932008236647, -0.0020082907285541296, 0.0008113472140394151, 0.003545895917341113, 0.014633786864578724, 0.015805868431925774, 0.06934043020009995, -0.0004352519172243774, -0.0026383947115391493, 0.007562885992228985, 0.049886032938957214, 0.07022671401500702, 0.01438264362514019, 0.012624802999198437, 0.02113034762442112, 0.03666987270116806, 0.01182137057185173, -0.0008496454684063792, -0.001679919776506722, -0.0015831900527700782, 0.006602671928703785, 0.012241164222359657, 0.00534901162609458, 0.013530345633625984, 0.006309808231890202, 0.003656091634184122, 0.00900763925164938, -0.0001411705743521452, 0.07035502791404724, 0.026540931314229965, -0.0007214086363092065, 0.009638992138206959, 0.010990861803293228, 0.005909490864723921, 0.010207661427557468, 0.02318749390542507, 0.012220718897879124, 0.001805608975701034, 0.0026704384945333004, 0.00223808572627604, 0.014185925014317036, 0.025622673332691193, -0.00019154672918375582, -0.00025154915056191385, 0.0003718409570865333, 0.023807311430573463, 0.03744271397590637, 0.009916719049215317, 0.010110379196703434, 0.003948899917304516, 0.016864437609910965, -6.185706297401339e-06, 0.023595258593559265, 0.05122727155685425, 0.0010449746623635292, 0.0065358174033463, 0.007267703302204609, 0.02344220131635666, 0.030544104054570198, 0.018969779834151268, -0.0006798667018301785, -0.0023291893303394318, 0.01787569932639599, 0.01570577546954155, 0.003521521110087633, 0.00020069151651114225, 0.00216967542655766, 0.04283718019723892, 0.04182574152946472, 0.025874843820929527, 0.011436423286795616, 0.006159962620586157, -0.0006993610295467079, 0.03182409331202507, 0.002850495744496584, -0.0005790323484688997, 0.0063494546338915825, 0.007420757319778204, 0.01979188621044159, 8.87707356014289e-05, 0.032128091901540756, 0.005300731398165226, 0.013000540435314178, 0.0122640710324049, 0.02612009271979332, -0.00022339749557431787, -0.00021748749713879079, 0.014758449047803879, 0.005543888080865145, 0.015992289409041405, 0.022098921239376068, 0.028136927634477615, 0.0024523024912923574, 0.0009688451536931098, 0.03915296494960785, 0.010533887892961502, -1.5583294953103177e-05, -0.0005323870573192835, -0.0006065413472242653, -5.85345842409879e-05, -0.00027038465486839414, 0.020078469067811966, 0.024578407406806946, 0.0060659791342914104, -0.00017875590128824115, -0.0004345314227975905, 0.00916882511228323, 0.02913164347410202, 0.012521927244961262, 0.031030576676130295, 0.034090276807546616, 0.01772896572947502, 0.010119985789060593, 0.002345664193853736, 0.004884317982941866, 0.007057430688291788, 0.005654941312968731, 0.015603573992848396, 0.007680773269385099, 0.003619777737185359, 0.023141812533140182, -0.00039034802466630936, -8.812558371573687e-05, -0.00017732387641444802, 0.02606743946671486, 0.0027715566102415323, 0.015582773834466934, 0.003044459503144026, -0.0008474114583805203, 0.005180403124541044, 0.0017556161619722843, 0.026925021782517433, 0.0011176893021911383, 0.04521842300891876, 0.0008264834759756923, 0.03567754477262497, 0.02014804445207119, 0.004612258169800043, 4.376051219878718e-05, 0.003415269311517477, 0.020168565213680267, 0.0015673167072236538, -0.00027311037410981953, 0.0017196672270074487, 0.02077695168554783, 0.002650642767548561, -8.889059245120734e-06, 0.02462969347834587, 0.014139956794679165, -0.0040446557104587555, 0.0013224969152361155, 0.00339042698033154, 0.06025165319442749, 0.0066482615657150745, 0.05725369229912758, 0.003384219016879797, 0.03839834779500961, -4.357325451564975e-06, 0.03830753639340401, -0.00041738722939044237, 0.008314707316458225, 0.0036890297196805477, 0.020739000290632248, 0.014321090653538704, 0.03158499300479889, 0.007294526323676109, 0.004627366084605455, 0.012978097423911095, 0.00854646135121584, 0.013115699402987957, 0.0801994577050209, 0.000843484012875706, -0.0003509008965920657, 0.01422231923788786, 0.028638340532779694, 0.0500568225979805, 0.015113313682377338, 0.00019897976017091423, 0.0074205719865858555, -0.00025024768547154963, -0.00013108809071127325, 0.014670806005597115, 0.030108215287327766, -0.0014014405896887183, 0.025363899767398834, 0.0009631852735765278, 0.0025364249013364315, 0.010140538215637207, -0.0003417895932216197, 0.045119509100914, 0.0039786240085959435, 0.0007494810852222145, 0.010547633282840252, 0.011802952736616135, 0.01719004288315773, 0.008101588115096092, 0.0008884722483344376, 0.04038945585489273, 0.011641880497336388, 0.007567271124571562, -0.0031876221764832735, 0.010381498374044895, 0.00018541917961556464, -0.0013861898332834244, 0.00917221698909998, 0.017758142203092575, -2.9372073186095804e-05, -0.00025319986161775887, -0.0005455291830003262, -0.00047721894225105643, -0.001743020722642541, 0.01042390801012516, 0.00558733195066452, 0.007823971100151539, 4.184000863460824e-05, 0.006571403704583645, 0.01610754244029522, 0.019694052636623383, 0.002311855787411332, 0.01679587922990322, -0.000622619700152427, 0.0002933585783466697, 0.005169224925339222, 0.010082143358886242, 0.039931416511535645, 0.02168489433825016, 0.04640951007604599, 0.010799926705658436, 0.03240415081381798, -0.0005520217819139361, 0.03069765493273735, 0.014241762459278107, 7.269972411449999e-05, -0.001260581542737782, 9.05810793483397e-06, 0.006727196276187897, 0.010528070852160454, -0.0012007595505565405, 0.02754214219748974, 0.0691281333565712, 0.010734345763921738, 0.02484571933746338, 0.00046062542241998017, -0.005240041296929121, 0.017092332243919373, 0.010514365509152412, 0.007295801769942045, 0.05272611975669861, 0.007283582352101803, 0.006802553776651621, 0.009732523001730442, -0.0010678466642275453, 0.014967801049351692, 0.0021010360214859247, -9.661154763307422e-05, 0.008867139928042889, 0.0004184746940154582, -0.00016229177708737552, 0.054047275334596634, 0.0036469660699367523, 0.0031854426488280296, -0.0018569109961390495, 0.004412166774272919, -0.00029679370345547795, 0.005407609976828098, -0.0009261880768463016, 0.003293605986982584, -0.0004184538556728512, 0.0023928505834192038, 0.0022094356827437878, 0.0022993236780166626, 0.028276516124606133, 0.00500015914440155, 0.013598977588117123, -0.00041734069236554205, 0.005788993090391159, 0.0484200082719326, 0.0005769392591901124, 0.013188080862164497, 0.027421992272138596, 0.012017155066132545, 0.00380137306638062, 0.03329329937696457, 0.004364818334579468, 0.0011641961755231023, 0.010588400065898895, 0.05387875437736511, 0.017072312533855438, 0.009753664955496788, 0.02052612602710724, 0.01637646183371544, 0.04981235787272453, 0.07230948656797409, -0.0008987616165541112, 0.005433229263871908, -0.0005888043669983745, 0.01726006716489792, 0.04165250435471535, -0.0013926392421126366, 0.018229225650429726, -0.0008620616281405091, -0.00023126695305109024, 0.017762131989002228, 0.04305461794137955, 0.015452749095857143, 7.982096576597542e-05, -0.0004891981370747089, 0.01083933562040329, 0.006016733590513468, 0.0018038571579381824, 0.007734240964055061, 0.06901045143604279, 0.015402544289827347, 0.01988687925040722, 0.0075322664342820644, -0.00100814295001328, 0.05302863568067551, 0.0034697656519711018, 0.018981661647558212, 0.022429823875427246, 0.008818169124424458, 0.00917627103626728, 0.00019020795298274606, 0.03373437747359276, 0.0002643345796968788, 0.03397098183631897, 0.01590684801340103, 0.007604354526847601, 0.021015053614974022, 0.0015775985084474087, 0.016379339620471, 0.012963677756488323, 0.048550430685281754, 0.018797334283590317, 0.012100990861654282, -2.2656544388155453e-05, -2.196446803282015e-05, 0.003957466222345829, 0.004906998015940189, 0.02574797347187996, -8.869841258274391e-05, 0.023613981902599335, -0.00015062176680658013, -0.00031094791484065354, 0.005563158541917801, 0.00024489258066751063, 0.05928821861743927, 0.0010739242425188422, 0.021829688921570778, 0.004416520707309246, 0.03544869273900986, 0.0177681352943182, -0.0004650327027775347, 0.0009515136480331421, -0.0003183082153555006, 0.012357561849057674, 0.013133947737514973, 0.006446018815040588, 0.0007534614414907992, 0.02642410434782505, -0.0002871034957934171, 0.012402870692312717, 0.007323024328798056, 0.01205983106046915, 0.017923645675182343, 0.0032143506687134504, 0.013538453727960587, 0.060508910566568375, -0.00042663043132051826, 0.0005635195993818343, -0.0008666444336995482, 0.0007660312694497406, -0.002387306187301874, 0.030796172097325325, 0.00334750534966588, 0.014734058640897274, 0.0022616141941398382, 0.03199884295463562, 0.038026563823223114, 0.007864117622375488, 0.0072948685847222805, 0.01782643049955368], [0.00794723816215992, -2.1501144146895967e-05, 0.0026868709828704596, 0.02069210819900036, 0.015522823669016361, 0.0010678063845261931, 0.0024403727147728205, 0.0018821293488144875, 0.035874586552381516, -0.0017558671534061432, 0.0021806196309626102, 0.0381912961602211, 0.003308195387944579, 0.02746703289449215, 0.0026380971539765596, 0.0028943114448338747, 0.002723314566537738, 0.0035442342050373554, 0.009440392255783081, 0.0007869548280723393, 0.03286859020590782, 0.03145284205675125, -9.933842375176027e-05, 0.002635716460645199, 0.014881662093102932, 0.03947770968079567, -6.181970820762217e-05, 0.0019675246439874172, 0.01723230443894863, 0.0020926890429109335, 0.004639929626137018, 0.016924327239394188, 0.021508656442165375, 0.0017880027880892158, 1.1862704923260026e-05, 0.0195639505982399, 0.0003209902788512409, 0.0029463779646903276, 0.0049583399668335915, 0.0022471281699836254, 0.0025558199267834425, 0.005295236129313707, 0.011560720391571522, -4.705113042291487e-06, 0.006366644985973835, 0.01734495349228382, 0.0017054678173735738, -0.00032578042009845376, 0.0071985055692493916, 0.00841357558965683, 0.015338161960244179, 0.0004737028502859175, -0.0016386290080845356, 0.007213749922811985, 0.0007727515185251832, -0.000112414090835955, 0.023389559239149094, 0.013119486160576344, 0.009897183626890182, 0.00519804609939456, 0.004236472770571709, -0.00017751732957549393, 0.004913681652396917, -6.020566797815263e-05, 0.008484889753162861, 0.005037835333496332, 0.013751620426774025, 0.0003095107967965305, 0.00026362581411376595, 0.014174054376780987, 0.008983009494841099, 6.236784975044429e-05, -0.000423240038799122, 0.00019469165999908, 0.0005506759043782949, 0.008475582115352154, 0.0024713233578950167, 0.008694546297192574, 0.008858758956193924, -0.00045500416308641434, -0.00030488637275993824, 0.00012992319534532726, 0.01346347201615572, 0.010438168421387672, 0.013140292838215828, 0.015742596238851547, -0.0004200153925921768, 0.007187174167484045, 0.0033313119783997536, 0.0005542485741898417, 0.00274861603975296, -0.0008807163103483617, 0.0035402558278292418, 0.003776553785428405, 0.013119182549417019, 0.009572407230734825, 0.004462087526917458, 0.004217047709971666, 0.031061513349413872, 0.00021745006961282343, 0.008374923840165138, 0.009643331170082092, 5.801115548820235e-05, 0.0013853911077603698, 0.0032685918267816305, 0.0006424649618566036, 0.0029710016679018736, 0.003287696745246649, 0.017771247774362564, 0.013619164004921913, 0.00020702104666270316, 0.0055669029243290424, 0.00010270074562868103, 0.005398862529546022, 0.010608614422380924, 0.014559661969542503, 0.001160843065008521, 0.004901960026472807, 0.03676561266183853, 0.0002994468668475747, 0.012652560137212276, 0.0026228539645671844, 0.014589117839932442, 0.004582047928124666, -0.0007434127619490027, 0.004828734323382378, 0.0010522418888285756, 0.047635119408369064, 0.013228928670287132, 0.03292922303080559, 0.008376672863960266, 0.0013772795209661126, 0.017891619354486465, 0.0020576079841703176, -0.00010206783917965367, 0.011231311596930027, 0.021377718076109886, -0.0012872007209807634, 0.006802055519074202, 0.0041747200302779675, 0.0005054355133324862, 0.016670677810907364, 0.004022794310003519, 0.009850744158029556, 0.004913408774882555, 0.008880577981472015, 0.0031566398683935404, 7.501963409595191e-05, 0.014354136772453785, 0.0009496925049461424, 0.010286577977240086, 0.0029112587217241526, -0.0012189365224912763, -4.3063308112323284e-05, 0.002150754677131772, 0.05692388862371445, -0.00010332254896638915, 0.002899474697187543, 0.009939545765519142, 0.000894862983841449, 0.007021048571914434, 0.015805453062057495, 0.03967541083693504, 0.008832563646137714, 0.004734124056994915, 0.0035219029523432255, -0.0004584582056850195, 0.01259290985763073, 0.004200571682304144, 0.002239563502371311, 0.005476273596286774, -0.0004198435926809907, -0.0010803532786667347, 0.006883248221129179, 0.021424032747745514, 0.0027643032371997833, 0.0038137976080179214, 0.00043779058614745736, 0.01016375795006752, -0.0005897139781154692, 0.010823242366313934, 0.00019953750597778708, -0.0002965373860206455, 0.03950027748942375, 0.011824089102447033, -0.0001668790209805593, -0.0005237773293629289, 0.007598905358463526, 0.00424383208155632, 0.0003155675658490509, 0.012116402387619019, 0.004342378582805395, 0.002665883395820856, 0.01102138590067625, 0.010108105838298798, 0.0032671440858393908, 0.0006692171446047723, 0.007333395071327686, 0.0237202700227499, -0.0026180134154856205, 0.06256741285324097, 0.00499159237369895, 0.01026233285665512, 0.0004835801082663238, 0.012507499195635319, 0.0013493872247636318, 0.02272702381014824, 0.001414582715369761, -0.001318611903116107, 0.012375354766845703, 0.007700698915868998, -0.0003511035756673664, 0.0028125555254518986, -0.00034613002208061516, 0.045395754277706146, 0.008957388810813427, -0.00037722353590652347, -1.1890221685462166e-05, 0.002579085063189268, 0.0027393235359340906, 0.00048183216131292284, 0.006085938774049282, -0.0008089290931820869, -5.997687185299583e-05, 0.00042333806050010026, -0.00010496441973373294, 0.00022581590746995062, 0.0009413585648871958, -5.0078710046363994e-05, 0.0035762835759669542, 0.015090097673237324, 1.730147960188333e-05, 0.006869485601782799, 0.0014082298148423433, 0.02050779201090336, 0.0022185263223946095, 0.005190184805542231, 0.005869210697710514, 0.0170673169195652, 0.00825382862240076, 0.021692711859941483, 0.004559703636914492, 0.0035243977326899767, -0.0012068861396983266, 0.0002999314456246793, 0.0009027713676914573, 0.0005642944597639143, 0.005665730219334364, 0.025908157229423523, 0.0383259654045105, 0.014634166844189167, -0.0002672719128895551, -0.00016632626648060977, 0.012182900682091713, -0.0004612162010744214, 0.023216642439365387, 0.055049825459718704, 0.010034432634711266, 0.0013702098513022065, 0.004021988250315189, 0.01018990483134985, -0.00020431354641914368, -0.00010444463259773329, 0.007490525487810373, 0.01473279856145382, 0.010484886355698109, 0.0035325821954756975, 0.022815942764282227, 0.002679593861103058, 0.07538796216249466, 0.005662636831402779, 0.046010520309209824, -0.0006016227998770773, -0.0001131364333559759, 0.007229419890791178, 0.007233818992972374, 0.007280987687408924, 0.01588936150074005, -0.00022163153334986418, 7.387400546576828e-05, 0.017304418608546257, 0.00010841570474440232, 0.01265487726777792, -0.006640069652348757, 0.00841155182570219, 0.0052758269011974335, 7.499476487282664e-05, -7.976231427164748e-05, 0.0069925254210829735, -9.970052815333474e-06, -0.000477820256492123, 5.71255040995311e-05, 0.025375043973326683, -2.6796826205099933e-05, 0.008517161011695862, 0.01725172996520996, 0.002808385295793414, 0.014573227614164352, 0.003650776343420148, 0.0015668337000533938, -0.00022172450553625822, 0.0013687817845493555, 7.776851998642087e-05, 0.005879450123757124, 0.020740190520882607, 0.04621683061122894, 0.015711398795247078, 0.00014599587302654982, -0.0026229219511151314, 0.0022544716484844685, 0.0003792732604779303, 0.00014512469351757318, 0.010246937163174152, 0.01686408743262291, 0.006627297960221767, -0.00045093672815710306, 0.020703380927443504, 9.120376489590853e-06, 0.019406212493777275, 0.034489706158638, 0.03522327542304993, 0.003612755099311471, -0.0006212958251126111, -2.302642860740889e-05, 0.018907126039266586, 0.006328761111944914, 0.0011641258606687188, 0.03286072239279747, -0.0009208554401993752, -3.8702855817973614e-05, 0.002378916135057807, 0.005148560740053654, -0.00024135070270858705, 0.004871697630733252, 0.0037261706311255693, 0.013094422407448292, 0.022826356813311577, 0.014342828653752804, 0.033850811421871185, -0.0015032159863039851, -0.00011340178753016517, 0.02074313536286354, 0.007181677967309952, 0.0005055870278738439, 0.0033854893408715725, 0.009009154513478279, 0.0009055355913005769, 0.006725078448653221, 0.005857331678271294, 0.016229018568992615, -9.655557369114831e-05, 0.009755903854966164, 0.05811624974012375, 0.0012850842904299498, 0.003392663784325123, 0.009323674254119396, 0.0040849740616977215, 0.003741454565897584, 0.012292965315282345, 0.010542519390583038, -0.001498768455348909, 0.009678431786596775, 0.012329356744885445, 0.0018973253900185227, 0.0019160190131515265, -0.0017978237010538578, 0.0074612791649997234, 0.004348549991846085, 0.013287900947034359, 0.00297645665705204, 0.00596877234056592, 0.005259732715785503, -0.001415487495251, 0.01636471040546894, -0.00015790504403412342, 0.03381770849227905, 0.004458919167518616, 0.002329175593331456, 0.019558172672986984, 0.007998290471732616, 0.0008013337501324713, 0.010343476198613644, -0.0015188336838036776, 0.006297803949564695, 0.004722197540104389, -0.0006937235593795776, 7.273670780705288e-05, 0.05285540595650673, 0.014007758349180222, 0.011278345249593258, 0.005562652833759785, 0.0034164029639214277, 0.002777123125270009, 0.009572697803378105, 0.0015402815770357847, -0.0010309320641681552, 1.0850590115296654e-05, 0.0036542597226798534, 0.0020275036804378033, 0.004278998356312513, -0.001377813401632011, 0.01874210499227047, 0.011323390528559685, 0.015140322037041187, -0.0004397865559440106, -0.0004075375327374786, 0.03620362654328346, 0.006584686227142811, 0.00162055145483464, -0.00010635484068188816, 0.004803086165338755, 0.023229660466313362, 0.022726187482476234, 0.005028100684285164, 0.0027136539574712515, 0.00010814521374413744, 0.020041536539793015, 0.03981136903166771, 0.003531453665345907, 0.016289999708533287, 0.02819952741265297, 0.011989029124379158, 0.0008066405425779521, -0.001162355300039053, 0.008358125574886799, 0.0005869882297702134, 0.004960083402693272, 0.0037220893427729607, 0.0035974460188299417, 0.0003757597296498716, 0.0036543780006468296, 0.006647063884884119, 0.009427900426089764, 0.002439572010189295, 0.005353651009500027, 0.01529700681567192, 0.00778627023100853, 0.0004549477598629892, 0.019379623234272003, -0.0012660811189562082, 0.007435970939695835, 0.0195443294942379, 0.006866935174912214, 0.003901738440617919, 0.012830877676606178, 0.0009444212773814797, 0.002008609240874648, 0.0010522720403969288, -0.0021425611339509487, 0.0034519846085458994, 0.011496715247631073, 0.003126471769064665, 0.013867571018636227, 0.017294295132160187, -0.0015276744961738586, 0.011153393425047398, 0.0016919001936912537, 0.0018258424242958426, 0.006862858776003122, 0.024308091029524803, 0.009890255518257618, 0.0029145567677915096, 0.009196912869811058, 0.10072381049394608, 0.0010449663968756795, 0.005602783057838678, 0.013123434968292713, 0.0010457464959472418, 0.0023974140640348196, 0.007765436545014381, 0.008145968429744244, 0.008776201866567135, 0.011766810901463032, 0.002349201589822769, 0.035652097314596176, 0.010796601884067059, 0.003828841494396329, 0.00776304816827178, 0.0035940525121986866, 0.012375096790492535, 0.031440746039152145, 0.006919133011251688, -0.00011055557843064889, 0.0018509678775444627, 7.672236824873835e-05, 0.02437385730445385, 0.00145011767745018, -0.00028572414885275066, 0.006873527076095343, 0.00252164457924664, 0.017551245167851448, -0.00015550055832136422, -0.0004597613587975502, 0.0028768209740519524, 0.0013450949918478727, 0.0039373598992824554, 0.049059994518756866, 0.0008529775077477098, 0.026196859776973724, 0.0096001410856843, 0.011086909100413322, 0.006020966451615095, 0.006225196179002523, 0.004537001717835665, 0.01903088204562664, -0.00013996280904393643, 0.0058691231533885, 0.012064253911376, 0.0006933248369023204, 0.0030767451971769333, 0.012303400784730911, 0.042655061930418015, 0.00031958799809217453, 0.022192420437932014, 0.004523244220763445, 0.07843486219644547, 0.007535182870924473, 0.03347655385732651, -0.00042129497160203755, -5.025650534662418e-05, 0.009664569050073624, 0.0008718539611436427, -0.00013330575893633068, 0.00801692996174097, 0.03737024590373039, 0.019207540899515152, -0.0030715549364686012, -0.003296365262940526, -6.637894693994895e-05, 0.04881279170513153, -0.0003641793446149677, -0.0010081176878884435, 0.00608803192153573, -0.0005717521999031305, 0.012597405351698399, 0.006964109372347593, 0.01273496076464653, 0.03960337117314339, -0.003203866770491004, 0.0010062581859529018, -0.0004133968031965196, 0.0020337109453976154, 0.012864060699939728, 8.725011866772547e-05, 0.009977406822144985, -0.00042090992792509496, 0.0012089217780157924, 0.014956527389585972, 0.003105772426351905, -0.00031777750700712204, -0.00023558315297123045, 0.013983281329274178, 0.022859804332256317, 0.006247293204069138, 0.009569359943270683, 0.001931271399371326, 0.021971004083752632, 0.00016046712698880583, 0.0006111911498010159, 0.0055032591335475445, 0.0050095440819859505, 0.0016882234485819936, 0.028619596734642982, 0.007120149675756693, 0.013107942417263985, 0.009994101710617542, 0.008493132889270782, 0.0034301001578569412, 0.009108155965805054, 0.005032698158174753, 0.02935553528368473, 0.008593655191361904, -0.0003882562159560621, 0.01112121157348156, 0.0014440255472436547, 0.026719098910689354, 0.00021848379401490092, -0.0008600743021816015, 0.014561870135366917, 0.0005704180803149939, 0.0035328129306435585, -0.0007230699411593378, 0.005022148136049509, 0.005850781220942736, 0.005571101326495409, 0.0017873875331133604, -5.5119264288805425e-05, 0.0016465808730572462, 0.0136036342009902, 0.010330617427825928, 0.07104750722646713, -0.00024236294848378748, 0.012231310829520226, 0.04999827593564987, 0.0061145322397351265, 0.008990268222987652, 0.0016512033762410283, 0.005806328263133764, 0.0003563245991244912, 0.009480412118136883, 0.0006723292171955109, 0.05156821757555008, -0.003034919733181596, 0.03017807938158512, 0.0014479150995612144, -0.0001392391714034602, 0.037663888186216354, 0.0020360213238745928, -0.000345602777088061, -0.0010752798989415169, 0.01806538738310337, -0.003964060451835394, 0.04091734439134598, 0.028283925727009773, 0.018895795568823814, -0.000947594759054482, 0.012635885737836361, 0.0026519661769270897, 0.0035854526795446873, 0.0282937940210104, -0.0018520904704928398, 0.019630147144198418, 0.00020289472013246268, -0.00043147525866515934, 0.008595533668994904, -0.0007447121315635741, 0.004382479470223188, 0.008576352149248123, 0.005418168846517801, 0.023031746968626976, 0.0008632377139292657, 0.021048981696367264, 0.010212840512394905, 0.004024092108011246, 0.008493760600686073, -0.0005087499739602208, -0.0006410757196135819, 0.002292721066623926, 0.012203515507280827, 0.007009815890341997, 0.0008832478197291493, 0.0024490230716764927, 0.003439231775701046, -0.00103228900115937, -0.0005909184110350907, -0.00042517867404967546, 0.020414475351572037, 0.0007418629829771817, 0.008360059931874275, -0.0004328721552155912, 0.028722215443849564, 0.0063302405178546906, 0.04598002880811691, 0.025469310581684113, 0.005442281253635883, 0.004043188877403736, 0.0007573536713607609, 0.043161068111658096, 0.022505108267068863, -0.0008690314716659486, 0.00031038798624649644, 0.0005519679398275912, 0.012542647309601307, 0.0007104726391844451, 0.00015633439761586487, 0.008879930712282658, 0.02940402738749981, -0.0008469928288832307, -0.0014654657570645213, -0.0005832899478264153, 0.0685393437743187, 0.008522726595401764, -0.00012679820065386593, 0.008257829584181309, 0.006517627742141485, 0.0042150262743234634, 0.0021648972760885954, 0.04678869992494583, 0.04938600957393646, -0.00025561326765455306, 0.000474143453175202, 0.01021477673202753, 0.003420958062633872, 0.006426517851650715, -0.0010319487191736698, -0.0003424604656174779, -0.002118956297636032, 0.006044153124094009, 0.020450029522180557, 0.006321732420474291, 0.01130540668964386, 0.0005747576360590756, 0.006016236264258623, -0.00016506545944139361, 0.0010202346602454782, -0.001157192513346672, 0.0076789394952356815, 0.0010693485382944345, 0.0038268815260380507, 0.02244715392589569, 0.00982507411390543, 0.02157077193260193, -6.515723362099379e-05, 0.009653439745306969, 0.0005096960812807083, 0.015430917963385582, 0.0014999192208051682, -0.0013048937544226646, -0.001052598119713366, -0.0002859115193132311, -0.0020774828735738993, 0.0043479325249791145, 0.04012269526720047, 0.00866412092000246, -0.0031206775456666946, 0.010742314159870148, -0.00023992474598344415, -0.00020678217697422951, 0.010574890300631523, -0.0006879177526570857, 0.06919215619564056, -0.0024021039716899395, 0.005460111424326897, -0.0009169346885755658, 0.0074062710627913475, 0.024440519511699677, 0.013837702572345734, -0.000986618921160698, -0.00016586667334195226, -0.001819363096728921, 0.013205808587372303, 0.02123158797621727, 0.00845286250114441, 0.0029683171305805445, -0.00014937686501070857, 0.014960787259042263, 0.014882072806358337, 0.008452373556792736, 0.008398269303143024, -0.00040272713522426784, -0.0007249031914398074, -0.0008668994996696711, -0.0001208418034366332, 0.0014140356797724962, 0.012043457478284836, 0.0040818206034600735, -0.0002910907787736505, -0.001083509880118072, 0.0038175187073647976, 0.03004937618970871, -0.00012614615843631327, 0.0024649754632264376, 0.01131952740252018, 0.0037162327207624912, 0.0004726986226160079, 0.0023599748965352774, 0.005847930908203125, 0.006564793176949024, 0.00563783897086978, -0.0003251669986639172, -0.0002165584301110357, -0.0017266786890104413, 0.006576647982001305, -0.00018561535398475826, 1.8198747056885622e-05, -0.0017683018231764436, 0.007802778389304876, -0.00047394755529239774, 0.009523020125925541, 0.005013466812670231, 9.352596862299833e-06, 0.003013038309291005, 0.002858897903934121, 0.014069879427552223, 0.0011392902815714478, 0.007359135430306196, 0.011535845696926117, 0.0025490475818514824, 0.014985214918851852, 0.004242525901645422, -0.0004488618578761816, 0.0007188946474343538, 0.01707204431295395, 0.046601779758930206, -0.000732924381736666, 0.006237986497581005, 0.004962524864822626, 0.0057506263256073, -0.0004967283457517624, 0.05073966830968857, 0.002573710633441806, 0.012951684184372425, -0.0003576880262698978, 0.03802822530269623, 0.03715988248586655, 0.001958221895620227, 0.022152330726385117, 0.01528338622301817, 0.013535886071622372, -2.1971231035422534e-05, 0.012520489282906055, 0.0012826879974454641, -0.0004587520379573107, -0.0005029692547395825, 0.00742682721465826, 0.007008114829659462, 0.003565713996067643, 0.019985631108283997, 0.07980717718601227, 0.0050239404663443565, 0.00939997099339962, 0.0014741017948836088, 0.052175577729940414, -0.0008201929158531129, 0.0029701602179557085, 0.014873944222927094, 0.003859645687043667, 0.01592182368040085, 0.000489467871375382, 0.005749341566115618, 0.0012118928134441376, 0.0031495264265686274, -2.185724770242814e-05, 0.0014408426359295845, 0.03876863047480583, 0.007505982648581266, 0.009516187943518162, 0.0038572612684220076, -0.0010704228188842535, 0.004710277076810598, 0.006534429267048836, 0.02317698299884796, -0.0005821415688842535, 0.014908603392541409, 0.006402978207916021, 0.007812246680259705, 0.0012201220961287618, -0.001278935931622982, 0.0004393188573885709, 0.0036156296264380217, 0.008401750586926937, 0.0056162490509450436, -0.0010353518882766366, 0.009879723191261292, -0.001796244876459241, 0.04786423221230507, 0.008986751548945904, 0.02642318606376648, 2.336128818569705e-05, 0.003907285165041685, 0.012555480934679508, 0.002189080696552992, 0.001359816757030785, -0.005475126672536135, -5.0780727178789675e-05, -0.00020570548076648265, 0.0053671919740736485, 0.0009828852489590645, 0.03434406965970993, 0.008579356595873833, -0.0023616189137101173, 0.013360060751438141, -0.0012602839851751924, 0.000242784182773903, 0.026081327348947525, 0.001348102348856628, 0.01725863851606846, 0.003969786688685417, -0.0001629815378692001, 0.0012167119421064854, 0.03157497197389603, -0.0003218086203560233, 0.01924431324005127, 0.009221935644745827, 0.017591567710042, -0.0008467314764857292, -0.0003935071872547269, -0.0011234409175813198, 0.0018668576376512647, 0.00760247465223074, 0.03579999506473541, 0.03381963074207306, 0.013020291924476624, 0.015111098065972328, 0.02151615545153618, 0.0031914575956761837, 0.013253011740744114, 0.007511107716709375, 0.0017146035097539425, 0.00020407148986123502, 0.02363130822777748, 0.004960923455655575, 7.457692117895931e-05, -0.00015288524446077645, 0.0030956913251429796, -0.0006026288028806448, 0.002359309932217002, 0.018158912658691406, 0.0005108319455757737, -0.0003917019348591566, 0.001261999597772956, 0.015291170217096806, 0.0016125311376526952, 0.006738922093063593, 0.02021411433815956, 0.02120535634458065, 0.017260363325476646, 0.0031639588996767998, 0.019853897392749786, -0.00018966797506436706, 0.009924503974616528, 0.0027269681449979544, 0.0019299357663840055, 0.0020780377089977264, 0.005025843158364296, 0.018879855051636696, 0.030630072578787804, -0.0015219358028843999, 0.00779205234721303, 0.00038926381967030466, 0.01121096033602953, 0.024366647005081177, 0.006146830972284079, 0.0034953400027006865, 0.011181564070284367, 0.002579823136329651, 0.010015219449996948, 0.0038439950440078974, 0.012972886674106121, 0.006703164894133806, 0.009302478283643723, 0.005969060119241476, -0.0001870410778792575, -0.003818158060312271, 0.017786292359232903, -0.0005978132830932736, 0.0029696733690798283, 0.011714555323123932, 0.006538397632539272, -0.00038627846515737474, 0.0001228594919666648, 0.0015639292541891336, 0.037404078990221024, -0.00072586809983477, 0.06249475106596947, 0.013924666680395603, 0.009789125993847847, 3.393155202502385e-05, -0.0006767226732335985, 0.006581517402082682, 0.0023697607684880495, 0.0065108598209917545, 0.01587699167430401, 0.0142612149938941, 0.018515892326831818, 0.001967581221833825, 0.00150009011849761, 0.014700374566018581, 0.005229765549302101, 0.004537669010460377, 0.008816962130367756, 0.0406302735209465, 0.01582660712301731, 0.006196097936481237, 0.0025389110669493675, 0.029765810817480087, 0.0006287571741268039, 0.008817902766168118, -0.0016344239702448249, 0.010973963886499405, 0.00214774115011096, -0.0010121881496161222, -0.0015285307308658957, 0.016052035614848137, 0.006657106336206198, 0.06182459369301796, 0.00824833009392023, -9.986518125515431e-05, 0.0018333172192797065, 0.001967341871932149, 0.0006519234157167375, 0.0008117937832139432, -0.002078736899420619, -0.00019088124099653214, 0.00040828739292919636, 0.003152016317471862, 0.00378111912868917, 0.00107089476659894, 0.022697225213050842, 0.00022539825295098126, 0.023564310744404793, -0.0001312631502514705, 0.020347248762845993, 0.011870129965245724, -0.00022641800751443952, -0.0002161264419555664, -0.0003580078773666173, 0.009774201549589634, 0.0023128606844693422, -0.00043155759340152144, -0.0002958558325190097, 0.0386677049100399, -0.000786561518907547, 0.009912512265145779, 0.009937641210854053, 0.01575181819498539, 0.004909677430987358, -0.00027244241209700704, 0.014353404752910137, 0.0012463787570595741, -0.00038986786967143416, -0.00010320276487618685, -8.522811549482867e-05, -0.0007198075181804597, -0.0007852243143133819, 0.014854056760668755, -0.00030781194800511, -0.0022374873515218496, -0.00042062916327267885, 0.056035470217466354, 0.01834969036281109, 0.010559466667473316, 0.018040761351585388, 0.016361450776457787]]}\n"
          ],
          "name": "stdout"
        }
      ]
    },
    {
      "cell_type": "code",
      "metadata": {
        "colab": {
          "base_uri": "https://localhost:8080/"
        },
        "id": "WpTs1gT_Jf5J",
        "outputId": "0f88d990-c8a1-4d9b-8029-a58be1296803"
      },
      "source": [
        "import re\r\n",
        "\r\n",
        "regex = r\"[.]{2,3}\"\r\n",
        "subst = \".\"\r\n",
        "\r\n",
        "print(tokenize.sent_tokenize(re.sub(regex, subst, abascal_reply2)))"
      ],
      "execution_count": null,
      "outputs": [
        {
          "output_type": "stream",
          "text": [
            "['Lo siento mucho Santi, pero el rey lleva el puto pin de la agenda globalista 2030, es uno de ellos.', 'Su madre desde Bidelberg le mueve los hilos.', 'Estáis solos en esto.', 'Como \\n@realDonaldTrump']\n"
          ],
          "name": "stdout"
        }
      ]
    },
    {
      "cell_type": "markdown",
      "metadata": {
        "id": "39vcfbzqQPrT"
      },
      "source": [
        "# Save the models"
      ]
    },
    {
      "cell_type": "code",
      "metadata": {
        "id": "MLES7qMwQSFz",
        "colab": {
          "base_uri": "https://localhost:8080/"
        },
        "outputId": "080ec27e-2d5a-41df-cd1b-4d58a1e49535"
      },
      "source": [
        "!pip install tensorflowjs\r\n",
        "import tensorflowjs as tfjs\r\n",
        "\r\n",
        "for i,model in enumerate(models):\r\n",
        "  # serialize model to JSON\r\n",
        "  model_json = model.to_json()\r\n",
        "  with open(\"/content/drive/MyDrive/Machine Learning/Datasets/SemEval-2018 Affect in Tweets E-c/\"+labels[i]+\"-model.json\", \"w\") as json_file:\r\n",
        "      json_file.write(model_json)\r\n",
        "\r\n",
        "  # serialize weights to HDF5\r\n",
        "  model_weights = model.save_weights(\"/content/drive/MyDrive/Machine Learning/Datasets/SemEval-2018 Affect in Tweets E-c/\"+labels[i]+\"-weights.h5\")\r\n",
        "  \r\n",
        "  # save as TensorFlow.js Layers format\r\n",
        "  tfjs.converters.save_keras_model(model, \"/content/drive/MyDrive/Machine Learning/Datasets/SemEval-2018 Affect in Tweets E-c/\"+labels[i])\r\n",
        "\r\n",
        "print(\"Saved models and weights to disk\")"
      ],
      "execution_count": null,
      "outputs": [
        {
          "output_type": "stream",
          "text": [
            "Requirement already satisfied: tensorflowjs in /usr/local/lib/python3.6/dist-packages (2.8.1)\n",
            "Requirement already satisfied: h5py<3,>=2.8.0 in /usr/local/lib/python3.6/dist-packages (from tensorflowjs) (2.10.0)\n",
            "Requirement already satisfied: tensorflow-hub<0.10,>=0.7.0 in /usr/local/lib/python3.6/dist-packages (from tensorflowjs) (0.9.0)\n",
            "Requirement already satisfied: six<2,>=1.12.0 in /usr/local/lib/python3.6/dist-packages (from tensorflowjs) (1.15.0)\n",
            "Requirement already satisfied: tensorflow<3,>=2.1.0 in /usr/local/lib/python3.6/dist-packages (from tensorflowjs) (2.4.0)\n",
            "Requirement already satisfied: numpy>=1.7 in /usr/local/lib/python3.6/dist-packages (from h5py<3,>=2.8.0->tensorflowjs) (1.19.4)\n",
            "Requirement already satisfied: protobuf>=3.8.0 in /usr/local/lib/python3.6/dist-packages (from tensorflow-hub<0.10,>=0.7.0->tensorflowjs) (3.12.4)\n",
            "Requirement already satisfied: typing-extensions~=3.7.4 in /usr/local/lib/python3.6/dist-packages (from tensorflow<3,>=2.1.0->tensorflowjs) (3.7.4.3)\n",
            "Requirement already satisfied: astunparse~=1.6.3 in /usr/local/lib/python3.6/dist-packages (from tensorflow<3,>=2.1.0->tensorflowjs) (1.6.3)\n",
            "Requirement already satisfied: keras-preprocessing~=1.1.2 in /usr/local/lib/python3.6/dist-packages (from tensorflow<3,>=2.1.0->tensorflowjs) (1.1.2)\n",
            "Requirement already satisfied: wrapt~=1.12.1 in /usr/local/lib/python3.6/dist-packages (from tensorflow<3,>=2.1.0->tensorflowjs) (1.12.1)\n",
            "Requirement already satisfied: opt-einsum~=3.3.0 in /usr/local/lib/python3.6/dist-packages (from tensorflow<3,>=2.1.0->tensorflowjs) (3.3.0)\n",
            "Requirement already satisfied: tensorflow-estimator<2.5.0,>=2.4.0rc0 in /usr/local/lib/python3.6/dist-packages (from tensorflow<3,>=2.1.0->tensorflowjs) (2.4.0)\n",
            "Requirement already satisfied: wheel~=0.35 in /usr/local/lib/python3.6/dist-packages (from tensorflow<3,>=2.1.0->tensorflowjs) (0.36.2)\n",
            "Requirement already satisfied: absl-py~=0.10 in /usr/local/lib/python3.6/dist-packages (from tensorflow<3,>=2.1.0->tensorflowjs) (0.10.0)\n",
            "Requirement already satisfied: flatbuffers~=1.12.0 in /usr/local/lib/python3.6/dist-packages (from tensorflow<3,>=2.1.0->tensorflowjs) (1.12)\n",
            "Requirement already satisfied: termcolor~=1.1.0 in /usr/local/lib/python3.6/dist-packages (from tensorflow<3,>=2.1.0->tensorflowjs) (1.1.0)\n",
            "Requirement already satisfied: grpcio~=1.32.0 in /usr/local/lib/python3.6/dist-packages (from tensorflow<3,>=2.1.0->tensorflowjs) (1.32.0)\n",
            "Requirement already satisfied: google-pasta~=0.2 in /usr/local/lib/python3.6/dist-packages (from tensorflow<3,>=2.1.0->tensorflowjs) (0.2.0)\n",
            "Requirement already satisfied: tensorboard~=2.4 in /usr/local/lib/python3.6/dist-packages (from tensorflow<3,>=2.1.0->tensorflowjs) (2.4.0)\n",
            "Requirement already satisfied: gast==0.3.3 in /usr/local/lib/python3.6/dist-packages (from tensorflow<3,>=2.1.0->tensorflowjs) (0.3.3)\n",
            "Requirement already satisfied: setuptools in /usr/local/lib/python3.6/dist-packages (from protobuf>=3.8.0->tensorflow-hub<0.10,>=0.7.0->tensorflowjs) (50.3.2)\n",
            "Requirement already satisfied: tensorboard-plugin-wit>=1.6.0 in /usr/local/lib/python3.6/dist-packages (from tensorboard~=2.4->tensorflow<3,>=2.1.0->tensorflowjs) (1.7.0)\n",
            "Requirement already satisfied: google-auth-oauthlib<0.5,>=0.4.1 in /usr/local/lib/python3.6/dist-packages (from tensorboard~=2.4->tensorflow<3,>=2.1.0->tensorflowjs) (0.4.2)\n",
            "Requirement already satisfied: google-auth<2,>=1.6.3 in /usr/local/lib/python3.6/dist-packages (from tensorboard~=2.4->tensorflow<3,>=2.1.0->tensorflowjs) (1.17.2)\n",
            "Requirement already satisfied: requests<3,>=2.21.0 in /usr/local/lib/python3.6/dist-packages (from tensorboard~=2.4->tensorflow<3,>=2.1.0->tensorflowjs) (2.23.0)\n",
            "Requirement already satisfied: werkzeug>=0.11.15 in /usr/local/lib/python3.6/dist-packages (from tensorboard~=2.4->tensorflow<3,>=2.1.0->tensorflowjs) (1.0.1)\n",
            "Requirement already satisfied: markdown>=2.6.8 in /usr/local/lib/python3.6/dist-packages (from tensorboard~=2.4->tensorflow<3,>=2.1.0->tensorflowjs) (3.3.3)\n",
            "Requirement already satisfied: requests-oauthlib>=0.7.0 in /usr/local/lib/python3.6/dist-packages (from google-auth-oauthlib<0.5,>=0.4.1->tensorboard~=2.4->tensorflow<3,>=2.1.0->tensorflowjs) (1.3.0)\n",
            "Requirement already satisfied: rsa<5,>=3.1.4; python_version >= \"3\" in /usr/local/lib/python3.6/dist-packages (from google-auth<2,>=1.6.3->tensorboard~=2.4->tensorflow<3,>=2.1.0->tensorflowjs) (4.6)\n",
            "Requirement already satisfied: cachetools<5.0,>=2.0.0 in /usr/local/lib/python3.6/dist-packages (from google-auth<2,>=1.6.3->tensorboard~=2.4->tensorflow<3,>=2.1.0->tensorflowjs) (4.2.0)\n",
            "Requirement already satisfied: pyasn1-modules>=0.2.1 in /usr/local/lib/python3.6/dist-packages (from google-auth<2,>=1.6.3->tensorboard~=2.4->tensorflow<3,>=2.1.0->tensorflowjs) (0.2.8)\n",
            "Requirement already satisfied: urllib3!=1.25.0,!=1.25.1,<1.26,>=1.21.1 in /usr/local/lib/python3.6/dist-packages (from requests<3,>=2.21.0->tensorboard~=2.4->tensorflow<3,>=2.1.0->tensorflowjs) (1.24.3)\n",
            "Requirement already satisfied: chardet<4,>=3.0.2 in /usr/local/lib/python3.6/dist-packages (from requests<3,>=2.21.0->tensorboard~=2.4->tensorflow<3,>=2.1.0->tensorflowjs) (3.0.4)\n",
            "Requirement already satisfied: idna<3,>=2.5 in /usr/local/lib/python3.6/dist-packages (from requests<3,>=2.21.0->tensorboard~=2.4->tensorflow<3,>=2.1.0->tensorflowjs) (2.10)\n",
            "Requirement already satisfied: certifi>=2017.4.17 in /usr/local/lib/python3.6/dist-packages (from requests<3,>=2.21.0->tensorboard~=2.4->tensorflow<3,>=2.1.0->tensorflowjs) (2020.12.5)\n",
            "Requirement already satisfied: importlib-metadata; python_version < \"3.8\" in /usr/local/lib/python3.6/dist-packages (from markdown>=2.6.8->tensorboard~=2.4->tensorflow<3,>=2.1.0->tensorflowjs) (3.3.0)\n",
            "Requirement already satisfied: oauthlib>=3.0.0 in /usr/local/lib/python3.6/dist-packages (from requests-oauthlib>=0.7.0->google-auth-oauthlib<0.5,>=0.4.1->tensorboard~=2.4->tensorflow<3,>=2.1.0->tensorflowjs) (3.1.0)\n",
            "Requirement already satisfied: pyasn1>=0.1.3 in /usr/local/lib/python3.6/dist-packages (from rsa<5,>=3.1.4; python_version >= \"3\"->google-auth<2,>=1.6.3->tensorboard~=2.4->tensorflow<3,>=2.1.0->tensorflowjs) (0.4.8)\n",
            "Requirement already satisfied: zipp>=0.5 in /usr/local/lib/python3.6/dist-packages (from importlib-metadata; python_version < \"3.8\"->markdown>=2.6.8->tensorboard~=2.4->tensorflow<3,>=2.1.0->tensorflowjs) (3.4.0)\n"
          ],
          "name": "stdout"
        },
        {
          "output_type": "stream",
          "text": [
            "/usr/local/lib/python3.6/dist-packages/tensorflowjs/converters/keras_h5_conversion.py:123: H5pyDeprecationWarning: The default file mode will change to 'r' (read-only) in h5py 3.0. To suppress this warning, pass the mode you need to h5py.File(), or set the global default h5.get_config().default_file_mode, or set the environment variable H5PY_DEFAULT_READONLY=1. Available modes are: 'r', 'r+', 'w', 'w-'/'x', 'a'. See the docs for details.\n",
            "  return h5py.File(h5file)\n"
          ],
          "name": "stderr"
        },
        {
          "output_type": "stream",
          "text": [
            "Saved models and weights to disk\n"
          ],
          "name": "stdout"
        }
      ]
    },
    {
      "cell_type": "code",
      "metadata": {
        "colab": {
          "base_uri": "https://localhost:8080/"
        },
        "id": "sPk3FuNZ6j3s",
        "outputId": "f4935ffb-6fda-4d7e-d37f-56c5874ad70c"
      },
      "source": [
        "from nltk import download as nltkdownload\r\n",
        "nltkdownload('punkt', download_dir='/content/drive/MyDrive/Machine Learning/nltk_data')"
      ],
      "execution_count": null,
      "outputs": [
        {
          "output_type": "stream",
          "text": [
            "[nltk_data] Downloading package punkt to\n",
            "[nltk_data]     /content/drive/MyDrive/Machine Learning/nltk_data...\n",
            "[nltk_data]   Unzipping tokenizers/punkt.zip.\n"
          ],
          "name": "stdout"
        },
        {
          "output_type": "execute_result",
          "data": {
            "text/plain": [
              "True"
            ]
          },
          "metadata": {
            "tags": []
          },
          "execution_count": 2
        }
      ]
    },
    {
      "cell_type": "code",
      "metadata": {
        "colab": {
          "base_uri": "https://localhost:8080/"
        },
        "id": "bfNAjRL6BWZr",
        "outputId": "2a4bcb22-3b51-4584-c9ef-bd5fb1580ac0"
      },
      "source": [
        "!pip install laserembeddings\r\n",
        "!python -m laserembeddings download-models /content/drive/MyDrive/Laser"
      ],
      "execution_count": null,
      "outputs": [
        {
          "output_type": "stream",
          "text": [
            "Requirement already satisfied: laserembeddings in /usr/local/lib/python3.6/dist-packages (1.1.0)\n",
            "Requirement already satisfied: numpy<2.0.0,>=1.15.4 in /usr/local/lib/python3.6/dist-packages (from laserembeddings) (1.19.4)\n",
            "Requirement already satisfied: transliterate==1.10.2 in /usr/local/lib/python3.6/dist-packages (from laserembeddings) (1.10.2)\n",
            "Requirement already satisfied: subword-nmt<0.4.0,>=0.3.6 in /usr/local/lib/python3.6/dist-packages (from laserembeddings) (0.3.7)\n",
            "Requirement already satisfied: sacremoses==0.0.35 in /usr/local/lib/python3.6/dist-packages (from laserembeddings) (0.0.35)\n",
            "Requirement already satisfied: torch<2.0.0,>=1.0.1.post2 in /usr/local/lib/python3.6/dist-packages (from laserembeddings) (1.7.0+cu101)\n",
            "Requirement already satisfied: six>=1.1.0 in /usr/local/lib/python3.6/dist-packages (from transliterate==1.10.2->laserembeddings) (1.15.0)\n",
            "Requirement already satisfied: tqdm in /usr/local/lib/python3.6/dist-packages (from sacremoses==0.0.35->laserembeddings) (4.41.1)\n",
            "Requirement already satisfied: joblib in /usr/local/lib/python3.6/dist-packages (from sacremoses==0.0.35->laserembeddings) (1.0.0)\n",
            "Requirement already satisfied: click in /usr/local/lib/python3.6/dist-packages (from sacremoses==0.0.35->laserembeddings) (7.1.2)\n",
            "Requirement already satisfied: dataclasses in /usr/local/lib/python3.6/dist-packages (from torch<2.0.0,>=1.0.1.post2->laserembeddings) (0.8)\n",
            "Requirement already satisfied: future in /usr/local/lib/python3.6/dist-packages (from torch<2.0.0,>=1.0.1.post2->laserembeddings) (0.16.0)\n",
            "Requirement already satisfied: typing-extensions in /usr/local/lib/python3.6/dist-packages (from torch<2.0.0,>=1.0.1.post2->laserembeddings) (3.7.4.3)\n",
            "Downloading models into /content/drive/MyDrive/Laser\n",
            "\n",
            "✅   Downloaded https://dl.fbaipublicfiles.com/laser/models/93langs.fcodes    \n",
            "✅   Downloaded https://dl.fbaipublicfiles.com/laser/models/93langs.fvocab    \n",
            "✅   Downloaded https://dl.fbaipublicfiles.com/laser/models/bilstm.93langs.2018-12-26.pt    \n",
            "\n",
            "✨ You're all set!\n"
          ],
          "name": "stdout"
        }
      ]
    }
  ]
}